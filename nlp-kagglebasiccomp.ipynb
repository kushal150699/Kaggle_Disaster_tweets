{
 "cells": [
  {
   "cell_type": "markdown",
   "id": "06c92a2d",
   "metadata": {
    "papermill": {
     "duration": 0.089598,
     "end_time": "2022-04-07T08:38:31.611218",
     "exception": false,
     "start_time": "2022-04-07T08:38:31.521620",
     "status": "completed"
    },
    "tags": []
   },
   "source": [
    "## Visualizing a text dataset"
   ]
  },
  {
   "cell_type": "code",
   "execution_count": 1,
   "id": "73a55425",
   "metadata": {
    "_cell_guid": "b1076dfc-b9ad-4769-8c92-a6c4dae69d19",
    "_uuid": "8f2839f25d086af736a60e9eeb907d3b93b6e0e5",
    "execution": {
     "iopub.execute_input": "2022-04-07T08:38:31.843529Z",
     "iopub.status.busy": "2022-04-07T08:38:31.842752Z",
     "iopub.status.idle": "2022-04-07T08:38:31.917230Z",
     "shell.execute_reply": "2022-04-07T08:38:31.917672Z",
     "shell.execute_reply.started": "2022-04-07T08:22:07.402613Z"
    },
    "papermill": {
     "duration": 0.216636,
     "end_time": "2022-04-07T08:38:31.917907",
     "exception": false,
     "start_time": "2022-04-07T08:38:31.701271",
     "status": "completed"
    },
    "tags": []
   },
   "outputs": [
    {
     "data": {
      "text/html": [
       "<div>\n",
       "<style scoped>\n",
       "    .dataframe tbody tr th:only-of-type {\n",
       "        vertical-align: middle;\n",
       "    }\n",
       "\n",
       "    .dataframe tbody tr th {\n",
       "        vertical-align: top;\n",
       "    }\n",
       "\n",
       "    .dataframe thead th {\n",
       "        text-align: right;\n",
       "    }\n",
       "</style>\n",
       "<table border=\"1\" class=\"dataframe\">\n",
       "  <thead>\n",
       "    <tr style=\"text-align: right;\">\n",
       "      <th></th>\n",
       "      <th>id</th>\n",
       "      <th>keyword</th>\n",
       "      <th>location</th>\n",
       "      <th>text</th>\n",
       "      <th>target</th>\n",
       "    </tr>\n",
       "  </thead>\n",
       "  <tbody>\n",
       "    <tr>\n",
       "      <th>0</th>\n",
       "      <td>1</td>\n",
       "      <td>NaN</td>\n",
       "      <td>NaN</td>\n",
       "      <td>Our Deeds are the Reason of this #earthquake M...</td>\n",
       "      <td>1</td>\n",
       "    </tr>\n",
       "    <tr>\n",
       "      <th>1</th>\n",
       "      <td>4</td>\n",
       "      <td>NaN</td>\n",
       "      <td>NaN</td>\n",
       "      <td>Forest fire near La Ronge Sask. Canada</td>\n",
       "      <td>1</td>\n",
       "    </tr>\n",
       "    <tr>\n",
       "      <th>2</th>\n",
       "      <td>5</td>\n",
       "      <td>NaN</td>\n",
       "      <td>NaN</td>\n",
       "      <td>All residents asked to 'shelter in place' are ...</td>\n",
       "      <td>1</td>\n",
       "    </tr>\n",
       "    <tr>\n",
       "      <th>3</th>\n",
       "      <td>6</td>\n",
       "      <td>NaN</td>\n",
       "      <td>NaN</td>\n",
       "      <td>13,000 people receive #wildfires evacuation or...</td>\n",
       "      <td>1</td>\n",
       "    </tr>\n",
       "    <tr>\n",
       "      <th>4</th>\n",
       "      <td>7</td>\n",
       "      <td>NaN</td>\n",
       "      <td>NaN</td>\n",
       "      <td>Just got sent this photo from Ruby #Alaska as ...</td>\n",
       "      <td>1</td>\n",
       "    </tr>\n",
       "  </tbody>\n",
       "</table>\n",
       "</div>"
      ],
      "text/plain": [
       "   id keyword location                                               text  \\\n",
       "0   1     NaN      NaN  Our Deeds are the Reason of this #earthquake M...   \n",
       "1   4     NaN      NaN             Forest fire near La Ronge Sask. Canada   \n",
       "2   5     NaN      NaN  All residents asked to 'shelter in place' are ...   \n",
       "3   6     NaN      NaN  13,000 people receive #wildfires evacuation or...   \n",
       "4   7     NaN      NaN  Just got sent this photo from Ruby #Alaska as ...   \n",
       "\n",
       "   target  \n",
       "0       1  \n",
       "1       1  \n",
       "2       1  \n",
       "3       1  \n",
       "4       1  "
      ]
     },
     "execution_count": 1,
     "metadata": {},
     "output_type": "execute_result"
    }
   ],
   "source": [
    "# Turn .csv files into pandas DataFrame's\n",
    "import pandas as pd\n",
    "train_df = pd.read_csv(\"../input/nlp-getting-started/train.csv\")\n",
    "test_df = pd.read_csv(\"../input/nlp-getting-started/test.csv\")\n",
    "sample_df = pd.read_csv(\"../input/nlp-getting-started/sample_submission.csv\")\n",
    "train_df.head()"
   ]
  },
  {
   "cell_type": "code",
   "execution_count": 2,
   "id": "a7ff9de8",
   "metadata": {
    "execution": {
     "iopub.execute_input": "2022-04-07T08:38:32.108527Z",
     "iopub.status.busy": "2022-04-07T08:38:32.107695Z",
     "iopub.status.idle": "2022-04-07T08:38:32.128100Z",
     "shell.execute_reply": "2022-04-07T08:38:32.126397Z",
     "shell.execute_reply.started": "2022-04-07T07:55:11.011422Z"
    },
    "papermill": {
     "duration": 0.121309,
     "end_time": "2022-04-07T08:38:32.128408",
     "exception": false,
     "start_time": "2022-04-07T08:38:32.007099",
     "status": "completed"
    },
    "tags": []
   },
   "outputs": [
    {
     "data": {
      "text/html": [
       "<div>\n",
       "<style scoped>\n",
       "    .dataframe tbody tr th:only-of-type {\n",
       "        vertical-align: middle;\n",
       "    }\n",
       "\n",
       "    .dataframe tbody tr th {\n",
       "        vertical-align: top;\n",
       "    }\n",
       "\n",
       "    .dataframe thead th {\n",
       "        text-align: right;\n",
       "    }\n",
       "</style>\n",
       "<table border=\"1\" class=\"dataframe\">\n",
       "  <thead>\n",
       "    <tr style=\"text-align: right;\">\n",
       "      <th></th>\n",
       "      <th>id</th>\n",
       "      <th>keyword</th>\n",
       "      <th>location</th>\n",
       "      <th>text</th>\n",
       "      <th>target</th>\n",
       "    </tr>\n",
       "  </thead>\n",
       "  <tbody>\n",
       "    <tr>\n",
       "      <th>2644</th>\n",
       "      <td>3796</td>\n",
       "      <td>destruction</td>\n",
       "      <td>NaN</td>\n",
       "      <td>So you have a new weapon that can cause un-ima...</td>\n",
       "      <td>1</td>\n",
       "    </tr>\n",
       "    <tr>\n",
       "      <th>2227</th>\n",
       "      <td>3185</td>\n",
       "      <td>deluge</td>\n",
       "      <td>NaN</td>\n",
       "      <td>The f$&amp;amp;@ing things I do for #GISHWHES Just...</td>\n",
       "      <td>0</td>\n",
       "    </tr>\n",
       "    <tr>\n",
       "      <th>5448</th>\n",
       "      <td>7769</td>\n",
       "      <td>police</td>\n",
       "      <td>UK</td>\n",
       "      <td>DT @georgegalloway: RT @Galloway4Mayor: ÛÏThe...</td>\n",
       "      <td>1</td>\n",
       "    </tr>\n",
       "    <tr>\n",
       "      <th>132</th>\n",
       "      <td>191</td>\n",
       "      <td>aftershock</td>\n",
       "      <td>NaN</td>\n",
       "      <td>Aftershock back to school kick off was great. ...</td>\n",
       "      <td>0</td>\n",
       "    </tr>\n",
       "    <tr>\n",
       "      <th>6845</th>\n",
       "      <td>9810</td>\n",
       "      <td>trauma</td>\n",
       "      <td>Montgomery County, MD</td>\n",
       "      <td>in response to trauma Children of Addicts deve...</td>\n",
       "      <td>0</td>\n",
       "    </tr>\n",
       "  </tbody>\n",
       "</table>\n",
       "</div>"
      ],
      "text/plain": [
       "        id      keyword               location  \\\n",
       "2644  3796  destruction                    NaN   \n",
       "2227  3185       deluge                    NaN   \n",
       "5448  7769       police                     UK   \n",
       "132    191   aftershock                    NaN   \n",
       "6845  9810       trauma  Montgomery County, MD   \n",
       "\n",
       "                                                   text  target  \n",
       "2644  So you have a new weapon that can cause un-ima...       1  \n",
       "2227  The f$&amp;@ing things I do for #GISHWHES Just...       0  \n",
       "5448  DT @georgegalloway: RT @Galloway4Mayor: ÛÏThe...       1  \n",
       "132   Aftershock back to school kick off was great. ...       0  \n",
       "6845  in response to trauma Children of Addicts deve...       0  "
      ]
     },
     "execution_count": 2,
     "metadata": {},
     "output_type": "execute_result"
    }
   ],
   "source": [
    "# Shuffle training dataframe\n",
    "train_df_shuffled = train_df.sample(frac=1,random_state=42)\n",
    "train_df_shuffled.head()"
   ]
  },
  {
   "cell_type": "code",
   "execution_count": 3,
   "id": "d761c9c0",
   "metadata": {
    "execution": {
     "iopub.execute_input": "2022-04-07T08:38:32.340580Z",
     "iopub.status.busy": "2022-04-07T08:38:32.339866Z",
     "iopub.status.idle": "2022-04-07T08:38:32.342662Z",
     "shell.execute_reply": "2022-04-07T08:38:32.343073Z",
     "shell.execute_reply.started": "2022-04-07T07:55:11.032406Z"
    },
    "papermill": {
     "duration": 0.100734,
     "end_time": "2022-04-07T08:38:32.343205",
     "exception": false,
     "start_time": "2022-04-07T08:38:32.242471",
     "status": "completed"
    },
    "tags": []
   },
   "outputs": [
    {
     "data": {
      "text/html": [
       "<div>\n",
       "<style scoped>\n",
       "    .dataframe tbody tr th:only-of-type {\n",
       "        vertical-align: middle;\n",
       "    }\n",
       "\n",
       "    .dataframe tbody tr th {\n",
       "        vertical-align: top;\n",
       "    }\n",
       "\n",
       "    .dataframe thead th {\n",
       "        text-align: right;\n",
       "    }\n",
       "</style>\n",
       "<table border=\"1\" class=\"dataframe\">\n",
       "  <thead>\n",
       "    <tr style=\"text-align: right;\">\n",
       "      <th></th>\n",
       "      <th>id</th>\n",
       "      <th>keyword</th>\n",
       "      <th>location</th>\n",
       "      <th>text</th>\n",
       "    </tr>\n",
       "  </thead>\n",
       "  <tbody>\n",
       "    <tr>\n",
       "      <th>0</th>\n",
       "      <td>0</td>\n",
       "      <td>NaN</td>\n",
       "      <td>NaN</td>\n",
       "      <td>Just happened a terrible car crash</td>\n",
       "    </tr>\n",
       "    <tr>\n",
       "      <th>1</th>\n",
       "      <td>2</td>\n",
       "      <td>NaN</td>\n",
       "      <td>NaN</td>\n",
       "      <td>Heard about #earthquake is different cities, s...</td>\n",
       "    </tr>\n",
       "    <tr>\n",
       "      <th>2</th>\n",
       "      <td>3</td>\n",
       "      <td>NaN</td>\n",
       "      <td>NaN</td>\n",
       "      <td>there is a forest fire at spot pond, geese are...</td>\n",
       "    </tr>\n",
       "    <tr>\n",
       "      <th>3</th>\n",
       "      <td>9</td>\n",
       "      <td>NaN</td>\n",
       "      <td>NaN</td>\n",
       "      <td>Apocalypse lighting. #Spokane #wildfires</td>\n",
       "    </tr>\n",
       "    <tr>\n",
       "      <th>4</th>\n",
       "      <td>11</td>\n",
       "      <td>NaN</td>\n",
       "      <td>NaN</td>\n",
       "      <td>Typhoon Soudelor kills 28 in China and Taiwan</td>\n",
       "    </tr>\n",
       "  </tbody>\n",
       "</table>\n",
       "</div>"
      ],
      "text/plain": [
       "   id keyword location                                               text\n",
       "0   0     NaN      NaN                 Just happened a terrible car crash\n",
       "1   2     NaN      NaN  Heard about #earthquake is different cities, s...\n",
       "2   3     NaN      NaN  there is a forest fire at spot pond, geese are...\n",
       "3   9     NaN      NaN           Apocalypse lighting. #Spokane #wildfires\n",
       "4  11     NaN      NaN      Typhoon Soudelor kills 28 in China and Taiwan"
      ]
     },
     "execution_count": 3,
     "metadata": {},
     "output_type": "execute_result"
    }
   ],
   "source": [
    "test_df.head()"
   ]
  },
  {
   "cell_type": "code",
   "execution_count": 4,
   "id": "0c490e86",
   "metadata": {
    "execution": {
     "iopub.execute_input": "2022-04-07T08:38:32.535136Z",
     "iopub.status.busy": "2022-04-07T08:38:32.534509Z",
     "iopub.status.idle": "2022-04-07T08:38:32.537068Z",
     "shell.execute_reply": "2022-04-07T08:38:32.537500Z",
     "shell.execute_reply.started": "2022-04-07T07:55:11.050878Z"
    },
    "papermill": {
     "duration": 0.102421,
     "end_time": "2022-04-07T08:38:32.537635",
     "exception": false,
     "start_time": "2022-04-07T08:38:32.435214",
     "status": "completed"
    },
    "tags": []
   },
   "outputs": [
    {
     "data": {
      "text/plain": [
       "0    4342\n",
       "1    3271\n",
       "Name: target, dtype: int64"
      ]
     },
     "execution_count": 4,
     "metadata": {},
     "output_type": "execute_result"
    }
   ],
   "source": [
    "# How many examples of each class?\n",
    "train_df.target.value_counts()"
   ]
  },
  {
   "cell_type": "code",
   "execution_count": 5,
   "id": "9a2acd39",
   "metadata": {
    "execution": {
     "iopub.execute_input": "2022-04-07T08:38:32.738431Z",
     "iopub.status.busy": "2022-04-07T08:38:32.737753Z",
     "iopub.status.idle": "2022-04-07T08:38:32.746535Z",
     "shell.execute_reply": "2022-04-07T08:38:32.747148Z",
     "shell.execute_reply.started": "2022-04-07T07:55:11.067636Z"
    },
    "papermill": {
     "duration": 0.114559,
     "end_time": "2022-04-07T08:38:32.747336",
     "exception": false,
     "start_time": "2022-04-07T08:38:32.632777",
     "status": "completed"
    },
    "tags": []
   },
   "outputs": [
    {
     "name": "stdout",
     "output_type": "stream",
     "text": [
      "Target: 1 (real disaster)\n",
      "Text:\n",
      "Check out 'Malaysia Confirms Plane Wreckage Is From Flight MH370' at  http://t.co/UB3woZ2UT1\n",
      "\n",
      "---\n",
      "\n",
      "Target: 1 (real disaster)\n",
      "Text:\n",
      "How to Survive a Dust Storm http://t.co/0yL3yT4YLH\n",
      "\n",
      "---\n",
      "\n",
      "Target: 0 (Not real disaster)\n",
      "Text:\n",
      "Fatality ????\n",
      "\n",
      "---\n",
      "\n",
      "Target: 0 (Not real disaster)\n",
      "Text:\n",
      "Catching up on GBBO and omg that girls cake that just totally collapsed I feel so bad\n",
      "\n",
      "---\n",
      "\n",
      "Target: 1 (real disaster)\n",
      "Text:\n",
      "Feel like I've got no control of anything that goes on in my life at the minute. #whirlwind #drained\n",
      "\n",
      "---\n",
      "\n"
     ]
    }
   ],
   "source": [
    "# Let's visualize some random training examples\n",
    "import random\n",
    "random_index = random.randint(0,len(train_df)-5) # create random indexes not higher than the total number of samples\n",
    "for row in train_df_shuffled[['text','target']][random_index:random_index+5].itertuples():\n",
    "    _,text,target = row\n",
    "    print(f\"Target: {target}\",\"(real disaster)\" if target>0 else \"(Not real disaster)\")\n",
    "    print(f\"Text:\\n{text}\\n\")\n",
    "    print(\"---\\n\")"
   ]
  },
  {
   "cell_type": "markdown",
   "id": "319de292",
   "metadata": {
    "papermill": {
     "duration": 0.095161,
     "end_time": "2022-04-07T08:38:32.940760",
     "exception": false,
     "start_time": "2022-04-07T08:38:32.845599",
     "status": "completed"
    },
    "tags": []
   },
   "source": [
    "## Split data into training and validation sets"
   ]
  },
  {
   "cell_type": "code",
   "execution_count": 6,
   "id": "64826ce6",
   "metadata": {
    "execution": {
     "iopub.execute_input": "2022-04-07T08:38:33.130967Z",
     "iopub.status.busy": "2022-04-07T08:38:33.130246Z",
     "iopub.status.idle": "2022-04-07T08:38:34.124301Z",
     "shell.execute_reply": "2022-04-07T08:38:34.123801Z",
     "shell.execute_reply.started": "2022-04-07T07:55:11.086557Z"
    },
    "papermill": {
     "duration": 1.090592,
     "end_time": "2022-04-07T08:38:34.124472",
     "exception": false,
     "start_time": "2022-04-07T08:38:33.033880",
     "status": "completed"
    },
    "tags": []
   },
   "outputs": [],
   "source": [
    "from sklearn.model_selection import train_test_split\n",
    "\n",
    "# Use train_test_split to split training data into training and validation sets\n",
    "train_sentences , val_sentences , train_labels , val_labels = train_test_split(train_df_shuffled['text'].to_numpy(),\n",
    "                                                                              train_df_shuffled['target'].to_numpy(),\n",
    "                                                                              test_size=0.1,random_state=42)"
   ]
  },
  {
   "cell_type": "code",
   "execution_count": 7,
   "id": "217d81b8",
   "metadata": {
    "execution": {
     "iopub.execute_input": "2022-04-07T08:38:34.312229Z",
     "iopub.status.busy": "2022-04-07T08:38:34.311500Z",
     "iopub.status.idle": "2022-04-07T08:38:34.314110Z",
     "shell.execute_reply": "2022-04-07T08:38:34.314524Z",
     "shell.execute_reply.started": "2022-04-07T07:55:12.158006Z"
    },
    "papermill": {
     "duration": 0.099969,
     "end_time": "2022-04-07T08:38:34.314656",
     "exception": false,
     "start_time": "2022-04-07T08:38:34.214687",
     "status": "completed"
    },
    "tags": []
   },
   "outputs": [
    {
     "data": {
      "text/plain": [
       "(6851, 6851, 762, 762)"
      ]
     },
     "execution_count": 7,
     "metadata": {},
     "output_type": "execute_result"
    }
   ],
   "source": [
    "len(train_sentences),len(train_labels),len(val_sentences),len(val_labels)"
   ]
  },
  {
   "cell_type": "markdown",
   "id": "1b9c7b92",
   "metadata": {
    "papermill": {
     "duration": 0.090545,
     "end_time": "2022-04-07T08:38:34.495093",
     "exception": false,
     "start_time": "2022-04-07T08:38:34.404548",
     "status": "completed"
    },
    "tags": []
   },
   "source": [
    "## Converting text into numbers\n",
    "\n",
    "In NLP, there are two main concepts for turning text into numbers:\n",
    "\n",
    "**Tokenization** - A straight mapping from word or character or sub-word to a numerical value. There are three main levels of tokenization:\n",
    "1. Using word-level tokenization with the sentence \"I love TensorFlow\" might result in \"I\" being 0, \"love\" being 1 and \"TensorFlow\" being 2. In this case, every word in a sequence considered a single token.\n",
    "1. Character-level tokenization, such as converting the letters A-Z to values 1-26. In this case, every character in a sequence considered a single token.\n",
    "1. Sub-word tokenization is in between word-level and character-level tokenization. It involves breaking invidual words into smaller parts and then converting those smaller parts into numbers. For example, \"my favourite food is pineapple pizza\" might become \"my, fav, avour, rite, fo, oo, od, is, pin, ine, app, le, piz, za\". After doing this, these sub-words would then be mapped to a numerical value. In this case, every word could be considered multiple tokens.\n",
    "\n",
    "**Embeddings** - An embedding is a representation of natural language which can be learned. Representation comes in the form of a feature vector. For example, the word \"dance\" could be represented by the 5-dimensional vector [-0.8547, 0.4559, -0.3332, 0.9877, 0.1112]. It's important to note here, the size of the feature vector is tuneable. \n",
    "There are two ways to use embeddings:\n",
    "1. Create your own embedding - Once your text has been turned into numbers (required for an embedding), you can put them through an embedding layer (such as tf.keras.layers.Embedding) and an embedding representation will be learned during model training.\n",
    "1. Reuse a pre-learned embedding - Many pre-trained embeddings exist online. These pre-trained embeddings have often been learned on large corpuses of text (such as all of Wikipedia) and thus have a good underlying representation of natural language. You can use a pre-trained embedding to initialize your model and fine-tune it to your own specific task.\n",
    "\n",
    "## Text vectorization (tokenization)"
   ]
  },
  {
   "cell_type": "code",
   "execution_count": 8,
   "id": "ca9a4f42",
   "metadata": {
    "execution": {
     "iopub.execute_input": "2022-04-07T08:38:34.682072Z",
     "iopub.status.busy": "2022-04-07T08:38:34.681306Z",
     "iopub.status.idle": "2022-04-07T08:38:41.488922Z",
     "shell.execute_reply": "2022-04-07T08:38:41.488001Z",
     "shell.execute_reply.started": "2022-04-07T07:55:12.168814Z"
    },
    "papermill": {
     "duration": 6.90384,
     "end_time": "2022-04-07T08:38:41.489095",
     "exception": false,
     "start_time": "2022-04-07T08:38:34.585255",
     "status": "completed"
    },
    "tags": []
   },
   "outputs": [
    {
     "name": "stderr",
     "output_type": "stream",
     "text": [
      "2022-04-07 08:38:39.336750: I tensorflow/stream_executor/cuda/cuda_gpu_executor.cc:937] successful NUMA node read from SysFS had negative value (-1), but there must be at least one NUMA node, so returning NUMA node zero\n",
      "2022-04-07 08:38:39.425652: I tensorflow/stream_executor/cuda/cuda_gpu_executor.cc:937] successful NUMA node read from SysFS had negative value (-1), but there must be at least one NUMA node, so returning NUMA node zero\n",
      "2022-04-07 08:38:39.426326: I tensorflow/stream_executor/cuda/cuda_gpu_executor.cc:937] successful NUMA node read from SysFS had negative value (-1), but there must be at least one NUMA node, so returning NUMA node zero\n",
      "2022-04-07 08:38:39.427480: I tensorflow/core/platform/cpu_feature_guard.cc:142] This TensorFlow binary is optimized with oneAPI Deep Neural Network Library (oneDNN) to use the following CPU instructions in performance-critical operations:  AVX2 AVX512F FMA\n",
      "To enable them in other operations, rebuild TensorFlow with the appropriate compiler flags.\n",
      "2022-04-07 08:38:39.428177: I tensorflow/stream_executor/cuda/cuda_gpu_executor.cc:937] successful NUMA node read from SysFS had negative value (-1), but there must be at least one NUMA node, so returning NUMA node zero\n",
      "2022-04-07 08:38:39.428835: I tensorflow/stream_executor/cuda/cuda_gpu_executor.cc:937] successful NUMA node read from SysFS had negative value (-1), but there must be at least one NUMA node, so returning NUMA node zero\n",
      "2022-04-07 08:38:39.429445: I tensorflow/stream_executor/cuda/cuda_gpu_executor.cc:937] successful NUMA node read from SysFS had negative value (-1), but there must be at least one NUMA node, so returning NUMA node zero\n",
      "2022-04-07 08:38:41.165277: I tensorflow/stream_executor/cuda/cuda_gpu_executor.cc:937] successful NUMA node read from SysFS had negative value (-1), but there must be at least one NUMA node, so returning NUMA node zero\n",
      "2022-04-07 08:38:41.166171: I tensorflow/stream_executor/cuda/cuda_gpu_executor.cc:937] successful NUMA node read from SysFS had negative value (-1), but there must be at least one NUMA node, so returning NUMA node zero\n",
      "2022-04-07 08:38:41.166843: I tensorflow/stream_executor/cuda/cuda_gpu_executor.cc:937] successful NUMA node read from SysFS had negative value (-1), but there must be at least one NUMA node, so returning NUMA node zero\n",
      "2022-04-07 08:38:41.167481: I tensorflow/core/common_runtime/gpu/gpu_device.cc:1510] Created device /job:localhost/replica:0/task:0/device:GPU:0 with 15403 MB memory:  -> device: 0, name: Tesla P100-PCIE-16GB, pci bus id: 0000:00:04.0, compute capability: 6.0\n"
     ]
    }
   ],
   "source": [
    "import tensorflow as tf\n",
    "from tensorflow.keras.layers.experimental.preprocessing import TextVectorization\n",
    "\n",
    "text_vectorizer = TextVectorization(max_tokens=None, # how many words in the vocabulary (all of the different words in your text)\n",
    "                                   standardize=\"lower_and_strip_punctuation\",\n",
    "                                   split=\"whitespace\", # how to split tokens\n",
    "                                   ngrams=None, # create groups of n-words?\n",
    "                                   output_mode=\"int\", # how to map tokens to numbers\n",
    "                                   output_sequence_length=None) # how long should the output sequence of tokens be?\n",
    "                                   # pad_to_max_tokens=True) # Not valid if using max_tokens=None"
   ]
  },
  {
   "cell_type": "code",
   "execution_count": 9,
   "id": "53927599",
   "metadata": {
    "execution": {
     "iopub.execute_input": "2022-04-07T08:38:41.685631Z",
     "iopub.status.busy": "2022-04-07T08:38:41.685067Z",
     "iopub.status.idle": "2022-04-07T08:38:41.690316Z",
     "shell.execute_reply": "2022-04-07T08:38:41.689894Z",
     "shell.execute_reply.started": "2022-04-07T07:55:20.815127Z"
    },
    "papermill": {
     "duration": 0.109713,
     "end_time": "2022-04-07T08:38:41.690446",
     "exception": false,
     "start_time": "2022-04-07T08:38:41.580733",
     "status": "completed"
    },
    "tags": []
   },
   "outputs": [
    {
     "data": {
      "text/plain": [
       "15"
      ]
     },
     "execution_count": 9,
     "metadata": {},
     "output_type": "execute_result"
    }
   ],
   "source": [
    "# Find average number of tokens (words) in training Tweets\n",
    "round(sum([len(i.split()) for i in train_sentences])/len(train_sentences))"
   ]
  },
  {
   "cell_type": "code",
   "execution_count": 10,
   "id": "955d6437",
   "metadata": {
    "execution": {
     "iopub.execute_input": "2022-04-07T08:38:41.881808Z",
     "iopub.status.busy": "2022-04-07T08:38:41.880211Z",
     "iopub.status.idle": "2022-04-07T08:38:41.882400Z",
     "shell.execute_reply": "2022-04-07T08:38:41.882814Z",
     "shell.execute_reply.started": "2022-04-07T07:55:20.840842Z"
    },
    "papermill": {
     "duration": 0.100508,
     "end_time": "2022-04-07T08:38:41.882942",
     "exception": false,
     "start_time": "2022-04-07T08:38:41.782434",
     "status": "completed"
    },
    "tags": []
   },
   "outputs": [],
   "source": [
    "# Setup text vectorization with custom variables\n",
    "max_vocab_length = 20000 # max number of words to have in our vocabulary\n",
    "max_length = 15 # max length our sequences will be (e.g. how many words from a Tweet does our model see?)\n",
    "\n",
    "text_vectorizer = TextVectorization(max_tokens=max_vocab_length,\n",
    "                                    output_mode=\"int\",\n",
    "                                    output_sequence_length=max_length)"
   ]
  },
  {
   "cell_type": "code",
   "execution_count": 11,
   "id": "e8457228",
   "metadata": {
    "execution": {
     "iopub.execute_input": "2022-04-07T08:38:42.071428Z",
     "iopub.status.busy": "2022-04-07T08:38:42.070664Z",
     "iopub.status.idle": "2022-04-07T08:38:42.596913Z",
     "shell.execute_reply": "2022-04-07T08:38:42.597604Z",
     "shell.execute_reply.started": "2022-04-07T07:55:20.871453Z"
    },
    "papermill": {
     "duration": 0.624032,
     "end_time": "2022-04-07T08:38:42.597829",
     "exception": false,
     "start_time": "2022-04-07T08:38:41.973797",
     "status": "completed"
    },
    "tags": []
   },
   "outputs": [
    {
     "name": "stderr",
     "output_type": "stream",
     "text": [
      "2022-04-07 08:38:42.132922: I tensorflow/compiler/mlir/mlir_graph_optimization_pass.cc:185] None of the MLIR Optimization Passes are enabled (registered 2)\n"
     ]
    }
   ],
   "source": [
    "# Fit the text vectorizer to the training text\n",
    "text_vectorizer.adapt(train_sentences)"
   ]
  },
  {
   "cell_type": "code",
   "execution_count": 12,
   "id": "99ac2f2d",
   "metadata": {
    "execution": {
     "iopub.execute_input": "2022-04-07T08:38:42.892838Z",
     "iopub.status.busy": "2022-04-07T08:38:42.891996Z",
     "iopub.status.idle": "2022-04-07T08:38:42.950566Z",
     "shell.execute_reply": "2022-04-07T08:38:42.951093Z",
     "shell.execute_reply.started": "2022-04-07T07:55:21.451411Z"
    },
    "papermill": {
     "duration": 0.209265,
     "end_time": "2022-04-07T08:38:42.951236",
     "exception": false,
     "start_time": "2022-04-07T08:38:42.741971",
     "status": "completed"
    },
    "tags": []
   },
   "outputs": [
    {
     "data": {
      "text/plain": [
       "<tf.Tensor: shape=(1, 15), dtype=int64, numpy=\n",
       "array([[264,   3, 232,   4,  13, 698,   0,   0,   0,   0,   0,   0,   0,\n",
       "          0,   0]])>"
      ]
     },
     "execution_count": 12,
     "metadata": {},
     "output_type": "execute_result"
    }
   ],
   "source": [
    "# Create sample sentence and tokenize it\n",
    "sample_sentence=\"There's a flood in my street!\"\n",
    "text_vectorizer([sample_sentence])"
   ]
  },
  {
   "cell_type": "code",
   "execution_count": 13,
   "id": "89d65c1d",
   "metadata": {
    "execution": {
     "iopub.execute_input": "2022-04-07T08:38:43.279240Z",
     "iopub.status.busy": "2022-04-07T08:38:43.278354Z",
     "iopub.status.idle": "2022-04-07T08:38:43.294955Z",
     "shell.execute_reply": "2022-04-07T08:38:43.295590Z",
     "shell.execute_reply.started": "2022-04-07T07:55:21.519244Z"
    },
    "papermill": {
     "duration": 0.177282,
     "end_time": "2022-04-07T08:38:43.295777",
     "exception": false,
     "start_time": "2022-04-07T08:38:43.118495",
     "status": "completed"
    },
    "tags": []
   },
   "outputs": [
    {
     "name": "stdout",
     "output_type": "stream",
     "text": [
      "Original text:\n",
      "Watching a man electrocuted on the roof of #mumbailocals is definitely a lesson.. People please learn!! #lessonforlife #marinelines #mumbai      \n",
      "\n",
      "Vectorized version:\n"
     ]
    },
    {
     "data": {
      "text/plain": [
       "<tf.Tensor: shape=(1, 15), dtype=int64, numpy=\n",
       "array([[  636,     3,    89,   461,    11,     2,  1773,     6, 10607,\n",
       "            9,  3943,     3,  5229,    57,   170]])>"
      ]
     },
     "execution_count": 13,
     "metadata": {},
     "output_type": "execute_result"
    }
   ],
   "source": [
    "# Choose a random sentence from the training dataset and tokenize it\n",
    "random_sentence = random.choice(train_sentences)\n",
    "print(f\"Original text:\\n{random_sentence}\\\n",
    "      \\n\\nVectorized version:\")\n",
    "text_vectorizer([random_sentence])"
   ]
  },
  {
   "cell_type": "code",
   "execution_count": 14,
   "id": "4fc862e6",
   "metadata": {
    "execution": {
     "iopub.execute_input": "2022-04-07T08:38:43.614123Z",
     "iopub.status.busy": "2022-04-07T08:38:43.613310Z",
     "iopub.status.idle": "2022-04-07T08:38:43.694995Z",
     "shell.execute_reply": "2022-04-07T08:38:43.695993Z",
     "shell.execute_reply.started": "2022-04-07T07:55:21.539613Z"
    },
    "papermill": {
     "duration": 0.242737,
     "end_time": "2022-04-07T08:38:43.696198",
     "exception": false,
     "start_time": "2022-04-07T08:38:43.453461",
     "status": "completed"
    },
    "tags": []
   },
   "outputs": [
    {
     "name": "stdout",
     "output_type": "stream",
     "text": [
      "Number of words in vocab: 20000\n",
      "Top 5 most common words: ['', '[UNK]', 'the', 'a', 'in']\n",
      "Bottom 5 least common words: ['attending', 'attendees', 'attended', 'attend', 'attempted']\n"
     ]
    }
   ],
   "source": [
    "# Get the unique words in the vocabulary\n",
    "words_in_vocab = text_vectorizer.get_vocabulary()\n",
    "top_5_words = words_in_vocab[:5]\n",
    "bottom_5_words = words_in_vocab[-5:]\n",
    "print(f\"Number of words in vocab: {len(words_in_vocab)}\")\n",
    "print(f\"Top 5 most common words: {top_5_words}\")\n",
    "print(f\"Bottom 5 least common words: {bottom_5_words}\")"
   ]
  },
  {
   "cell_type": "markdown",
   "id": "957d09af",
   "metadata": {
    "papermill": {
     "duration": 0.092661,
     "end_time": "2022-04-07T08:38:43.895265",
     "exception": false,
     "start_time": "2022-04-07T08:38:43.802604",
     "status": "completed"
    },
    "tags": []
   },
   "source": [
    "## Creating an Embedding using an Embedding Layer\n"
   ]
  },
  {
   "cell_type": "code",
   "execution_count": 15,
   "id": "20a4a8b3",
   "metadata": {
    "execution": {
     "iopub.execute_input": "2022-04-07T08:38:44.094165Z",
     "iopub.status.busy": "2022-04-07T08:38:44.092951Z",
     "iopub.status.idle": "2022-04-07T08:38:44.096585Z",
     "shell.execute_reply": "2022-04-07T08:38:44.096126Z",
     "shell.execute_reply.started": "2022-04-07T07:55:21.610971Z"
    },
    "papermill": {
     "duration": 0.108055,
     "end_time": "2022-04-07T08:38:44.096702",
     "exception": false,
     "start_time": "2022-04-07T08:38:43.988647",
     "status": "completed"
    },
    "tags": []
   },
   "outputs": [
    {
     "data": {
      "text/plain": [
       "<keras.layers.embeddings.Embedding at 0x7f0b3c7ad510>"
      ]
     },
     "execution_count": 15,
     "metadata": {},
     "output_type": "execute_result"
    }
   ],
   "source": [
    "tf.random.set_seed(42)\n",
    "from tensorflow.keras import layers\n",
    "\n",
    "embedding = layers.Embedding(input_dim = max_vocab_length, # set input shape\n",
    "                            output_dim = 128,  # set size of embedding vector\n",
    "                            embeddings_initializer = \"uniform\", # default, intialize randomly\n",
    "                            input_length = max_length, # how long is each input\n",
    "                            name=\"embedding_1\")\n",
    "embedding"
   ]
  },
  {
   "cell_type": "code",
   "execution_count": 16,
   "id": "23888c2f",
   "metadata": {
    "execution": {
     "iopub.execute_input": "2022-04-07T08:38:44.289754Z",
     "iopub.status.busy": "2022-04-07T08:38:44.288873Z",
     "iopub.status.idle": "2022-04-07T08:38:44.315001Z",
     "shell.execute_reply": "2022-04-07T08:38:44.315592Z",
     "shell.execute_reply.started": "2022-04-07T07:55:21.627488Z"
    },
    "papermill": {
     "duration": 0.125464,
     "end_time": "2022-04-07T08:38:44.315776",
     "exception": false,
     "start_time": "2022-04-07T08:38:44.190312",
     "status": "completed"
    },
    "tags": []
   },
   "outputs": [
    {
     "name": "stdout",
     "output_type": "stream",
     "text": [
      "Original text:\n",
      " 'If you are going to achieve excellence in big things you develop the habit in little matters....' dont know the author      \n",
      "\n",
      " Embedded version:\n"
     ]
    },
    {
     "data": {
      "text/plain": [
       "<tf.Tensor: shape=(1, 15, 128), dtype=float32, numpy=\n",
       "array([[[-0.01648287, -0.01244445, -0.00593115, ..., -0.01819796,\n",
       "         -0.04376183,  0.04817954],\n",
       "        [-0.00123378,  0.00323629, -0.0277025 , ..., -0.01858177,\n",
       "         -0.04566612,  0.04470313],\n",
       "        [ 0.03210879,  0.01650668,  0.01403118, ...,  0.01477012,\n",
       "          0.03275109,  0.00308426],\n",
       "        ...,\n",
       "        [ 0.02504804,  0.02770906,  0.01542609, ..., -0.04612003,\n",
       "         -0.02924401, -0.00331711],\n",
       "        [-0.03709953,  0.04833485,  0.01080109, ...,  0.04519942,\n",
       "         -0.01164054, -0.02208861],\n",
       "        [-0.04364428,  0.02437404, -0.03696011, ..., -0.04763393,\n",
       "          0.02931459,  0.0068561 ]]], dtype=float32)>"
      ]
     },
     "execution_count": 16,
     "metadata": {},
     "output_type": "execute_result"
    }
   ],
   "source": [
    "# Get a random sentence from training set\n",
    "random_sentence=random.choice(train_sentences)\n",
    "print(f\"Original text:\\n {random_sentence}\\\n",
    "      \\n\\n Embedded version:\")\n",
    "\n",
    "# Embed the random sentence (turn it into numerical representation)\n",
    "sample_embed = embedding(text_vectorizer([random_sentence]))\n",
    "sample_embed"
   ]
  },
  {
   "cell_type": "code",
   "execution_count": 17,
   "id": "f12fb153",
   "metadata": {
    "execution": {
     "iopub.execute_input": "2022-04-07T08:38:44.579245Z",
     "iopub.status.busy": "2022-04-07T08:38:44.578458Z",
     "iopub.status.idle": "2022-04-07T08:38:44.584536Z",
     "shell.execute_reply": "2022-04-07T08:38:44.584952Z",
     "shell.execute_reply.started": "2022-04-07T07:55:21.665626Z"
    },
    "papermill": {
     "duration": 0.174786,
     "end_time": "2022-04-07T08:38:44.585092",
     "exception": false,
     "start_time": "2022-04-07T08:38:44.410306",
     "status": "completed"
    },
    "tags": []
   },
   "outputs": [
    {
     "data": {
      "text/plain": [
       "<tf.Tensor: shape=(128,), dtype=float32, numpy=\n",
       "array([-0.01648287, -0.01244445, -0.00593115,  0.02571679, -0.01758653,\n",
       "        0.04785769,  0.01713232,  0.02104768,  0.01665342,  0.03555442,\n",
       "       -0.02099076,  0.01388302,  0.04033318,  0.00459173,  0.03044039,\n",
       "       -0.02730775, -0.03163983,  0.04615699, -0.03585492,  0.02836765,\n",
       "       -0.04096633, -0.02900456,  0.04499844,  0.00440123,  0.0203773 ,\n",
       "       -0.02728077,  0.04871868, -0.020643  , -0.03030854,  0.01946949,\n",
       "        0.02708319, -0.00055827,  0.01366253,  0.0393349 , -0.03918117,\n",
       "       -0.02166616,  0.0099115 ,  0.04434251, -0.04946912,  0.03149461,\n",
       "       -0.03924376,  0.02310855,  0.04422278, -0.00049195, -0.02702255,\n",
       "       -0.02866596,  0.02727517, -0.01256846,  0.00137087, -0.02770535,\n",
       "       -0.03686273,  0.02514655,  0.04851106,  0.03109604, -0.00540564,\n",
       "       -0.03000927, -0.03803948, -0.02728719, -0.00131368, -0.04499172,\n",
       "        0.00955989,  0.04845902, -0.02594701, -0.01595932, -0.03329698,\n",
       "       -0.01238541,  0.03862984, -0.02134796, -0.03987097, -0.04956045,\n",
       "       -0.04041793, -0.02735474, -0.04264566, -0.03452422, -0.03436875,\n",
       "        0.01021583, -0.02723812, -0.03379384,  0.00653883,  0.01047885,\n",
       "       -0.00209488, -0.04589174,  0.02002511,  0.02577014,  0.0459693 ,\n",
       "       -0.01676661, -0.01764923,  0.01713191, -0.03003542, -0.04395155,\n",
       "       -0.03320207, -0.02486098, -0.02023502, -0.01291711,  0.02752537,\n",
       "       -0.03300159, -0.03356512,  0.00558547,  0.03778353,  0.04772464,\n",
       "        0.02533224,  0.04717047, -0.01995993, -0.01836939, -0.03966957,\n",
       "        0.04031773, -0.00907082, -0.03452162, -0.02634089, -0.0476288 ,\n",
       "        0.03995029, -0.04070414, -0.04014545,  0.03401655,  0.02490053,\n",
       "       -0.03039719, -0.02129269,  0.01735865, -0.04604524,  0.02770903,\n",
       "        0.01576607,  0.01806909, -0.04772323,  0.00615413, -0.03797525,\n",
       "       -0.01819796, -0.04376183,  0.04817954], dtype=float32)>"
      ]
     },
     "execution_count": 17,
     "metadata": {},
     "output_type": "execute_result"
    }
   ],
   "source": [
    "sample_embed[0][0]"
   ]
  },
  {
   "cell_type": "markdown",
   "id": "4a8dec70",
   "metadata": {
    "papermill": {
     "duration": 0.153539,
     "end_time": "2022-04-07T08:38:44.901813",
     "exception": false,
     "start_time": "2022-04-07T08:38:44.748274",
     "status": "completed"
    },
    "tags": []
   },
   "source": [
    "* Model 0: Naive Bayes (baseline)\n",
    "* Model 1: Feed-forward neural network (dense model)\n",
    "* Model 2: LSTM model\n",
    "* Model 3: GRU model\n",
    "* Model 4: Bidirectional-LSTM model\n",
    "* Model 5: 1D Convolutional Neural Network\n",
    "* Model 6: TensorFlow Hub Pretrained Feature Extractor\n",
    "\n",
    "## Model 0: Getting a baseline"
   ]
  },
  {
   "cell_type": "code",
   "execution_count": 18,
   "id": "7c9577be",
   "metadata": {
    "execution": {
     "iopub.execute_input": "2022-04-07T08:38:45.141716Z",
     "iopub.status.busy": "2022-04-07T08:38:45.140973Z",
     "iopub.status.idle": "2022-04-07T08:38:45.333351Z",
     "shell.execute_reply": "2022-04-07T08:38:45.333828Z",
     "shell.execute_reply.started": "2022-04-07T07:55:21.684075Z"
    },
    "papermill": {
     "duration": 0.291312,
     "end_time": "2022-04-07T08:38:45.333981",
     "exception": false,
     "start_time": "2022-04-07T08:38:45.042669",
     "status": "completed"
    },
    "tags": []
   },
   "outputs": [
    {
     "data": {
      "text/plain": [
       "Pipeline(steps=[('tfidf', TfidfVectorizer()), ('clf', MultinomialNB())])"
      ]
     },
     "execution_count": 18,
     "metadata": {},
     "output_type": "execute_result"
    }
   ],
   "source": [
    "from sklearn.feature_extraction.text import TfidfVectorizer\n",
    "from sklearn.naive_bayes import MultinomialNB\n",
    "from sklearn.pipeline import Pipeline\n",
    "\n",
    "# Create tokenization and modelling pipeline\n",
    "model_0 = Pipeline([\n",
    "    (\"tfidf\",TfidfVectorizer()), # convert words to numbers using tfidf\n",
    "    (\"clf\",MultinomialNB()) # model the text\n",
    "])\n",
    "\n",
    "# Fit the pipeline to the training data\n",
    "model_0.fit(train_sentences,train_labels)"
   ]
  },
  {
   "cell_type": "code",
   "execution_count": 19,
   "id": "d62be8d2",
   "metadata": {
    "execution": {
     "iopub.execute_input": "2022-04-07T08:38:45.542928Z",
     "iopub.status.busy": "2022-04-07T08:38:45.542043Z",
     "iopub.status.idle": "2022-04-07T08:38:45.548156Z",
     "shell.execute_reply": "2022-04-07T08:38:45.547717Z",
     "shell.execute_reply.started": "2022-04-07T07:55:21.926824Z"
    },
    "papermill": {
     "duration": 0.120164,
     "end_time": "2022-04-07T08:38:45.548272",
     "exception": false,
     "start_time": "2022-04-07T08:38:45.428108",
     "status": "completed"
    },
    "tags": []
   },
   "outputs": [
    {
     "name": "stdout",
     "output_type": "stream",
     "text": [
      "Our baseline model achieves an accuracy of: 79.27%\n"
     ]
    }
   ],
   "source": [
    "baseline_score = model_0.score(val_sentences,val_labels)\n",
    "print(f\"Our baseline model achieves an accuracy of: {baseline_score*100:.2f}%\")"
   ]
  },
  {
   "cell_type": "code",
   "execution_count": 20,
   "id": "dac1d53f",
   "metadata": {
    "execution": {
     "iopub.execute_input": "2022-04-07T08:38:45.760876Z",
     "iopub.status.busy": "2022-04-07T08:38:45.758831Z",
     "iopub.status.idle": "2022-04-07T08:38:45.767185Z",
     "shell.execute_reply": "2022-04-07T08:38:45.767582Z",
     "shell.execute_reply.started": "2022-04-07T07:55:21.962916Z"
    },
    "papermill": {
     "duration": 0.124239,
     "end_time": "2022-04-07T08:38:45.767730",
     "exception": false,
     "start_time": "2022-04-07T08:38:45.643491",
     "status": "completed"
    },
    "tags": []
   },
   "outputs": [
    {
     "data": {
      "text/plain": [
       "array([1, 1, 1, 0, 0, 1, 1, 1, 1, 0])"
      ]
     },
     "execution_count": 20,
     "metadata": {},
     "output_type": "execute_result"
    }
   ],
   "source": [
    "# Make predictions\n",
    "baseline_preds = model_0.predict(val_sentences)\n",
    "baseline_preds[:10]"
   ]
  },
  {
   "cell_type": "markdown",
   "id": "576149b2",
   "metadata": {
    "papermill": {
     "duration": 0.098739,
     "end_time": "2022-04-07T08:38:45.965734",
     "exception": false,
     "start_time": "2022-04-07T08:38:45.866995",
     "status": "completed"
    },
    "tags": []
   },
   "source": [
    "## Creating an evaluation function for our model experiments\n",
    "\n",
    "* Accuracy\n",
    "* Precision\n",
    "* Recall\n",
    "* F1-score"
   ]
  },
  {
   "cell_type": "code",
   "execution_count": 21,
   "id": "c98e437a",
   "metadata": {
    "execution": {
     "iopub.execute_input": "2022-04-07T08:38:46.165316Z",
     "iopub.status.busy": "2022-04-07T08:38:46.163709Z",
     "iopub.status.idle": "2022-04-07T08:38:46.165911Z",
     "shell.execute_reply": "2022-04-07T08:38:46.166315Z",
     "shell.execute_reply.started": "2022-04-07T07:55:21.996109Z"
    },
    "papermill": {
     "duration": 0.104142,
     "end_time": "2022-04-07T08:38:46.166475",
     "exception": false,
     "start_time": "2022-04-07T08:38:46.062333",
     "status": "completed"
    },
    "tags": []
   },
   "outputs": [],
   "source": [
    "# Function to evaluate: accuracy, precision, recall, f1-score\n",
    "from sklearn.metrics import accuracy_score,precision_recall_fscore_support\n",
    "\n",
    "def calculate_results(y_true,y_pred):\n",
    "    \"\"\"\n",
    "  Calculates model accuracy, precision, recall and f1 score of a binary classification model.\n",
    "\n",
    "  Args:\n",
    "  -----\n",
    "  y_true = true labels in the form of a 1D array\n",
    "  y_pred = predicted la_bels in the form of a 1D array\n",
    "\n",
    "  Returns a dictionary of accuracy, precision, recall, f1-score.\n",
    "  \"\"\"\n",
    "    \n",
    "    # Calculate model accuracy\n",
    "    model_accuracy = accuracy_score(y_true,y_pred)*100\n",
    "    # Calculate model precision, recall and f1 score using \"weighted\" average\n",
    "    model_precision,model_recall,model_f1,_ = precision_recall_fscore_support(y_true,y_pred,average=\"weighted\")\n",
    "    model_results = {\"accuracy\": model_accuracy,\n",
    "                    \"precision\": model_precision,\n",
    "                    \"recall\": model_recall,\n",
    "                    \"f1-score\": model_f1}\n",
    "    \n",
    "    return model_results"
   ]
  },
  {
   "cell_type": "code",
   "execution_count": 22,
   "id": "80acdcff",
   "metadata": {
    "execution": {
     "iopub.execute_input": "2022-04-07T08:38:46.362457Z",
     "iopub.status.busy": "2022-04-07T08:38:46.361615Z",
     "iopub.status.idle": "2022-04-07T08:38:46.367734Z",
     "shell.execute_reply": "2022-04-07T08:38:46.368145Z",
     "shell.execute_reply.started": "2022-04-07T07:55:22.007122Z"
    },
    "papermill": {
     "duration": 0.106139,
     "end_time": "2022-04-07T08:38:46.368282",
     "exception": false,
     "start_time": "2022-04-07T08:38:46.262143",
     "status": "completed"
    },
    "tags": []
   },
   "outputs": [
    {
     "data": {
      "text/plain": [
       "{'accuracy': 79.26509186351706,\n",
       " 'precision': 0.8111390004213173,\n",
       " 'recall': 0.7926509186351706,\n",
       " 'f1-score': 0.7862189758049549}"
      ]
     },
     "execution_count": 22,
     "metadata": {},
     "output_type": "execute_result"
    }
   ],
   "source": [
    "# Get baseline results\n",
    "baseline_results = calculate_results(y_true=val_labels,y_pred=baseline_preds)\n",
    "baseline_results"
   ]
  },
  {
   "cell_type": "markdown",
   "id": "afca8055",
   "metadata": {
    "papermill": {
     "duration": 0.094661,
     "end_time": "2022-04-07T08:38:46.557871",
     "exception": false,
     "start_time": "2022-04-07T08:38:46.463210",
     "status": "completed"
    },
    "tags": []
   },
   "source": [
    "## Model 1: A simple dense model"
   ]
  },
  {
   "cell_type": "code",
   "execution_count": 23,
   "id": "04f61571",
   "metadata": {
    "execution": {
     "iopub.execute_input": "2022-04-07T08:38:46.766513Z",
     "iopub.status.busy": "2022-04-07T08:38:46.763575Z",
     "iopub.status.idle": "2022-04-07T08:38:46.810437Z",
     "shell.execute_reply": "2022-04-07T08:38:46.809855Z",
     "shell.execute_reply.started": "2022-04-07T07:55:22.029100Z"
    },
    "papermill": {
     "duration": 0.156923,
     "end_time": "2022-04-07T08:38:46.810586",
     "exception": false,
     "start_time": "2022-04-07T08:38:46.653663",
     "status": "completed"
    },
    "tags": []
   },
   "outputs": [],
   "source": [
    "# Build model with the Functional API\n",
    "from tensorflow.keras import layers\n",
    "inputs = layers.Input(shape=(1,),dtype=\"string\") # inputs are 1-dimensional strings\n",
    "x = text_vectorizer(inputs) # turn the input text into numbers\n",
    "x = embedding(x) # create an embedding of the numerized numbers\n",
    "x = layers.GlobalAveragePooling1D()(x) # lower the dimensionality of the embedding\n",
    "outputs = layers.Dense(1,activation=\"sigmoid\")(x) # create the output layer, want binary outputs so use sigmoid activation\n",
    "model_1 = tf.keras.Model(inputs,outputs,name=\"model_1_dense\") # construct the model"
   ]
  },
  {
   "cell_type": "code",
   "execution_count": 24,
   "id": "6b966b57",
   "metadata": {
    "execution": {
     "iopub.execute_input": "2022-04-07T08:38:47.030389Z",
     "iopub.status.busy": "2022-04-07T08:38:47.029414Z",
     "iopub.status.idle": "2022-04-07T08:38:47.036354Z",
     "shell.execute_reply": "2022-04-07T08:38:47.035885Z",
     "shell.execute_reply.started": "2022-04-07T07:55:22.108825Z"
    },
    "papermill": {
     "duration": 0.119615,
     "end_time": "2022-04-07T08:38:47.036490",
     "exception": false,
     "start_time": "2022-04-07T08:38:46.916875",
     "status": "completed"
    },
    "tags": []
   },
   "outputs": [],
   "source": [
    "# Compile model\n",
    "model_1.compile(loss=\"binary_crossentropy\",\n",
    "               optimizer=tf.keras.optimizers.Adam(),\n",
    "               metrics=['accuracy'])"
   ]
  },
  {
   "cell_type": "code",
   "execution_count": 25,
   "id": "3e2f7357",
   "metadata": {
    "execution": {
     "iopub.execute_input": "2022-04-07T08:38:47.240090Z",
     "iopub.status.busy": "2022-04-07T08:38:47.238653Z",
     "iopub.status.idle": "2022-04-07T08:38:47.245591Z",
     "shell.execute_reply": "2022-04-07T08:38:47.244925Z",
     "shell.execute_reply.started": "2022-04-07T07:55:22.134389Z"
    },
    "papermill": {
     "duration": 0.110712,
     "end_time": "2022-04-07T08:38:47.245753",
     "exception": false,
     "start_time": "2022-04-07T08:38:47.135041",
     "status": "completed"
    },
    "tags": []
   },
   "outputs": [
    {
     "name": "stdout",
     "output_type": "stream",
     "text": [
      "Model: \"model_1_dense\"\n",
      "_________________________________________________________________\n",
      "Layer (type)                 Output Shape              Param #   \n",
      "=================================================================\n",
      "input_1 (InputLayer)         [(None, 1)]               0         \n",
      "_________________________________________________________________\n",
      "text_vectorization_1 (TextVe (None, 15)                0         \n",
      "_________________________________________________________________\n",
      "embedding_1 (Embedding)      (None, 15, 128)           2560000   \n",
      "_________________________________________________________________\n",
      "global_average_pooling1d (Gl (None, 128)               0         \n",
      "_________________________________________________________________\n",
      "dense (Dense)                (None, 1)                 129       \n",
      "=================================================================\n",
      "Total params: 2,560,129\n",
      "Trainable params: 2,560,129\n",
      "Non-trainable params: 0\n",
      "_________________________________________________________________\n"
     ]
    }
   ],
   "source": [
    "model_1.summary()"
   ]
  },
  {
   "cell_type": "code",
   "execution_count": 26,
   "id": "daf9faa0",
   "metadata": {
    "execution": {
     "iopub.execute_input": "2022-04-07T08:38:47.444939Z",
     "iopub.status.busy": "2022-04-07T08:38:47.444167Z",
     "iopub.status.idle": "2022-04-07T08:38:53.360657Z",
     "shell.execute_reply": "2022-04-07T08:38:53.360046Z",
     "shell.execute_reply.started": "2022-04-07T07:55:22.150018Z"
    },
    "papermill": {
     "duration": 6.017112,
     "end_time": "2022-04-07T08:38:53.360790",
     "exception": false,
     "start_time": "2022-04-07T08:38:47.343678",
     "status": "completed"
    },
    "tags": []
   },
   "outputs": [
    {
     "name": "stdout",
     "output_type": "stream",
     "text": [
      "Epoch 1/5\n",
      "215/215 [==============================] - 2s 5ms/step - loss: 0.6091 - accuracy: 0.7016 - val_loss: 0.5347 - val_accuracy: 0.7651\n",
      "Epoch 2/5\n",
      "215/215 [==============================] - 1s 4ms/step - loss: 0.4273 - accuracy: 0.8305 - val_loss: 0.4826 - val_accuracy: 0.7651\n",
      "Epoch 3/5\n",
      "215/215 [==============================] - 1s 4ms/step - loss: 0.3121 - accuracy: 0.8803 - val_loss: 0.4636 - val_accuracy: 0.7822\n",
      "Epoch 4/5\n",
      "215/215 [==============================] - 1s 4ms/step - loss: 0.2334 - accuracy: 0.9181 - val_loss: 0.4714 - val_accuracy: 0.7808\n",
      "Epoch 5/5\n",
      "215/215 [==============================] - 1s 4ms/step - loss: 0.1751 - accuracy: 0.9437 - val_loss: 0.4925 - val_accuracy: 0.7900\n"
     ]
    }
   ],
   "source": [
    "# Fit the model\n",
    "model_1_history = model_1.fit(train_sentences,\n",
    "                             train_labels,\n",
    "                             epochs=5,\n",
    "                             validation_data=(val_sentences,val_labels))"
   ]
  },
  {
   "cell_type": "code",
   "execution_count": 27,
   "id": "9e856cf0",
   "metadata": {
    "execution": {
     "iopub.execute_input": "2022-04-07T08:38:53.611642Z",
     "iopub.status.busy": "2022-04-07T08:38:53.610804Z",
     "iopub.status.idle": "2022-04-07T08:38:53.719642Z",
     "shell.execute_reply": "2022-04-07T08:38:53.719182Z",
     "shell.execute_reply.started": "2022-04-07T07:55:33.110313Z"
    },
    "papermill": {
     "duration": 0.23567,
     "end_time": "2022-04-07T08:38:53.719772",
     "exception": false,
     "start_time": "2022-04-07T08:38:53.484102",
     "status": "completed"
    },
    "tags": []
   },
   "outputs": [
    {
     "name": "stdout",
     "output_type": "stream",
     "text": [
      "24/24 [==============================] - 0s 3ms/step - loss: 0.4925 - accuracy: 0.7900\n"
     ]
    },
    {
     "data": {
      "text/plain": [
       "[0.49245190620422363, 0.7900262475013733]"
      ]
     },
     "execution_count": 27,
     "metadata": {},
     "output_type": "execute_result"
    }
   ],
   "source": [
    "model_1.evaluate(val_sentences,val_labels)"
   ]
  },
  {
   "cell_type": "code",
   "execution_count": 28,
   "id": "19d940b2",
   "metadata": {
    "execution": {
     "iopub.execute_input": "2022-04-07T08:38:53.980602Z",
     "iopub.status.busy": "2022-04-07T08:38:53.979632Z",
     "iopub.status.idle": "2022-04-07T08:38:53.996307Z",
     "shell.execute_reply": "2022-04-07T08:38:53.995702Z",
     "shell.execute_reply.started": "2022-04-07T07:55:33.273025Z"
    },
    "papermill": {
     "duration": 0.149357,
     "end_time": "2022-04-07T08:38:53.996476",
     "exception": false,
     "start_time": "2022-04-07T08:38:53.847119",
     "status": "completed"
    },
    "tags": []
   },
   "outputs": [
    {
     "name": "stdout",
     "output_type": "stream",
     "text": [
      "(20000, 128)\n"
     ]
    }
   ],
   "source": [
    "embed_weights = model_1.get_layer(\"embedding_1\").get_weights()[0]\n",
    "print(embed_weights.shape)"
   ]
  },
  {
   "cell_type": "code",
   "execution_count": 29,
   "id": "8388b470",
   "metadata": {
    "execution": {
     "iopub.execute_input": "2022-04-07T08:38:54.251257Z",
     "iopub.status.busy": "2022-04-07T08:38:54.250430Z",
     "iopub.status.idle": "2022-04-07T08:38:54.423166Z",
     "shell.execute_reply": "2022-04-07T08:38:54.423590Z",
     "shell.execute_reply.started": "2022-04-07T07:55:33.299157Z"
    },
    "papermill": {
     "duration": 0.301668,
     "end_time": "2022-04-07T08:38:54.423753",
     "exception": false,
     "start_time": "2022-04-07T08:38:54.122085",
     "status": "completed"
    },
    "tags": []
   },
   "outputs": [
    {
     "data": {
      "text/plain": [
       "array([[0.58255404],\n",
       "       [0.75262535],\n",
       "       [0.9977703 ],\n",
       "       [0.08345769],\n",
       "       [0.10107742],\n",
       "       [0.9533619 ],\n",
       "       [0.9089836 ],\n",
       "       [0.99329597],\n",
       "       [0.985924  ],\n",
       "       [0.30061743]], dtype=float32)"
      ]
     },
     "execution_count": 29,
     "metadata": {},
     "output_type": "execute_result"
    }
   ],
   "source": [
    "# Make predictions\n",
    "model_1_pred_probs = model_1.predict(val_sentences)\n",
    "model_1_pred_probs[:10]"
   ]
  },
  {
   "cell_type": "code",
   "execution_count": 30,
   "id": "3a5ba786",
   "metadata": {
    "execution": {
     "iopub.execute_input": "2022-04-07T08:38:54.675844Z",
     "iopub.status.busy": "2022-04-07T08:38:54.675209Z",
     "iopub.status.idle": "2022-04-07T08:38:54.683608Z",
     "shell.execute_reply": "2022-04-07T08:38:54.683109Z",
     "shell.execute_reply.started": "2022-04-07T07:55:33.537111Z"
    },
    "papermill": {
     "duration": 0.136462,
     "end_time": "2022-04-07T08:38:54.683729",
     "exception": false,
     "start_time": "2022-04-07T08:38:54.547267",
     "status": "completed"
    },
    "tags": []
   },
   "outputs": [
    {
     "data": {
      "text/plain": [
       "<tf.Tensor: shape=(10,), dtype=float32, numpy=array([1., 1., 1., 0., 0., 1., 1., 1., 1., 0.], dtype=float32)>"
      ]
     },
     "execution_count": 30,
     "metadata": {},
     "output_type": "execute_result"
    }
   ],
   "source": [
    "model_1_preds = tf.squeeze(tf.round(model_1_pred_probs))\n",
    "model_1_preds[:10]"
   ]
  },
  {
   "cell_type": "code",
   "execution_count": 31,
   "id": "29e4d49c",
   "metadata": {
    "execution": {
     "iopub.execute_input": "2022-04-07T08:38:54.961411Z",
     "iopub.status.busy": "2022-04-07T08:38:54.960475Z",
     "iopub.status.idle": "2022-04-07T08:38:54.968135Z",
     "shell.execute_reply": "2022-04-07T08:38:54.968553Z",
     "shell.execute_reply.started": "2022-04-07T07:55:33.551343Z"
    },
    "papermill": {
     "duration": 0.154784,
     "end_time": "2022-04-07T08:38:54.968706",
     "exception": false,
     "start_time": "2022-04-07T08:38:54.813922",
     "status": "completed"
    },
    "tags": []
   },
   "outputs": [
    {
     "data": {
      "text/plain": [
       "{'accuracy': 79.00262467191601,\n",
       " 'precision': 0.7904026816892662,\n",
       " 'recall': 0.7900262467191601,\n",
       " 'f1-score': 0.788967977944356}"
      ]
     },
     "execution_count": 31,
     "metadata": {},
     "output_type": "execute_result"
    }
   ],
   "source": [
    "# Calculate model_1 metrics\n",
    "model_1_results = calculate_results(y_true=val_labels,y_pred=model_1_preds)\n",
    "model_1_results"
   ]
  },
  {
   "cell_type": "code",
   "execution_count": 32,
   "id": "db450e92",
   "metadata": {
    "execution": {
     "iopub.execute_input": "2022-04-07T08:38:55.226151Z",
     "iopub.status.busy": "2022-04-07T08:38:55.225565Z",
     "iopub.status.idle": "2022-04-07T08:38:55.228665Z",
     "shell.execute_reply": "2022-04-07T08:38:55.229236Z",
     "shell.execute_reply.started": "2022-04-07T07:55:33.566828Z"
    },
    "papermill": {
     "duration": 0.134138,
     "end_time": "2022-04-07T08:38:55.229423",
     "exception": false,
     "start_time": "2022-04-07T08:38:55.095285",
     "status": "completed"
    },
    "tags": []
   },
   "outputs": [
    {
     "name": "stdout",
     "output_type": "stream",
     "text": [
      "Baseline accuracy: 79.27 , New accuracy: 79.00 , Difference: -0.26\n",
      "Baseline precision: 0.81 , New precision: 0.79 , Difference: -0.02\n",
      "Baseline recall: 0.79 , New recall: 0.79 , Difference: -0.00\n",
      "Baseline f1-score: 0.79 , New f1-score: 0.79 , Difference: 0.00\n"
     ]
    }
   ],
   "source": [
    "def compare_baseline_to_new_results(baseline_results,new_model_results):\n",
    "    for key , value in baseline_results.items():\n",
    "        print(f\"Baseline {key}: {value:.2f} , New {key}: {new_model_results[key]:.2f} , Difference: {new_model_results[key]-value:.2f}\")\n",
    "        \n",
    "compare_baseline_to_new_results(baseline_results,model_1_results)        "
   ]
  },
  {
   "cell_type": "markdown",
   "id": "68fc6d8b",
   "metadata": {
    "papermill": {
     "duration": 0.179403,
     "end_time": "2022-04-07T08:38:55.536116",
     "exception": false,
     "start_time": "2022-04-07T08:38:55.356713",
     "status": "completed"
    },
    "tags": []
   },
   "source": [
    "## Recurrent Neural Networks (RNN's)\n",
    "\n",
    "The premise of an RNN is simple: use information from the past to help you with the future (this is where the term recurrent comes from). In other words, take an input (X) and compute an output (y) based on all previous inputs.\n",
    "\n",
    "Recurrent neural networks can be used for a number of sequence-based problems:\n",
    "\n",
    "* One to one: one input, one output, such as image classification.\n",
    "* One to many: one input, many outputs, such as image captioning (image input, a sequence of text as caption output).\n",
    "* Many to one: many inputs, one outputs, such as text classification (classifying a Tweet as real diaster or not real diaster).\n",
    "* Many to many: many inputs, many outputs, such as machine translation (translating English to Spanish) or speech to text (audio wave as input, text as output).\n",
    "\n",
    "## Model 2: LSTM"
   ]
  },
  {
   "cell_type": "code",
   "execution_count": 33,
   "id": "41e96c0e",
   "metadata": {
    "execution": {
     "iopub.execute_input": "2022-04-07T08:38:55.965121Z",
     "iopub.status.busy": "2022-04-07T08:38:55.964228Z",
     "iopub.status.idle": "2022-04-07T08:38:56.650801Z",
     "shell.execute_reply": "2022-04-07T08:38:56.650282Z",
     "shell.execute_reply.started": "2022-04-07T07:55:33.577116Z"
    },
    "papermill": {
     "duration": 0.909082,
     "end_time": "2022-04-07T08:38:56.650974",
     "exception": false,
     "start_time": "2022-04-07T08:38:55.741892",
     "status": "completed"
    },
    "tags": []
   },
   "outputs": [],
   "source": [
    "# Set random seed and create embedding layer (new embedding layer for each model)\n",
    "tf.random.set_seed(42)\n",
    "\n",
    "from tensorflow.keras import layers\n",
    "model_2_embedding = layers.Embedding(input_dim=max_vocab_length,\n",
    "                                    output_dim=128,\n",
    "                                    embeddings_initializer=\"uniform\",\n",
    "                                    input_length=max_length,\n",
    "                                    name=\"embedding_2\")\n",
    "# Create LSTM model\n",
    "inputs = layers.Input(shape=(1,),dtype=\"string\")\n",
    "x = text_vectorizer(inputs)\n",
    "x = model_2_embedding(x)\n",
    "x = layers.LSTM(256,return_sequences=True)(x) # return vector for each word in the Tweet (you can stack RNN cells as long as return_sequences=True)\n",
    "x = layers.LSTM(128,return_sequences=True)(x)\n",
    "x = layers.LSTM(64)(x) # return vector for whole sequence\n",
    "outputs = layers.Dense(1,activation=\"sigmoid\")(x)\n",
    "model_2 = tf.keras.Model(inputs,outputs,name=\"model_2_LSTM\")"
   ]
  },
  {
   "cell_type": "code",
   "execution_count": 34,
   "id": "ad97aff1",
   "metadata": {
    "execution": {
     "iopub.execute_input": "2022-04-07T08:38:56.925643Z",
     "iopub.status.busy": "2022-04-07T08:38:56.924722Z",
     "iopub.status.idle": "2022-04-07T08:38:56.930633Z",
     "shell.execute_reply": "2022-04-07T08:38:56.930023Z",
     "shell.execute_reply.started": "2022-04-07T07:55:34.488590Z"
    },
    "papermill": {
     "duration": 0.15147,
     "end_time": "2022-04-07T08:38:56.930786",
     "exception": false,
     "start_time": "2022-04-07T08:38:56.779316",
     "status": "completed"
    },
    "tags": []
   },
   "outputs": [],
   "source": [
    "# Compile model\n",
    "model_2.compile(loss=\"binary_crossentropy\",\n",
    "               optimizer=tf.keras.optimizers.Adam(),\n",
    "               metrics=['accuracy'])"
   ]
  },
  {
   "cell_type": "code",
   "execution_count": 35,
   "id": "62a5ba0a",
   "metadata": {
    "execution": {
     "iopub.execute_input": "2022-04-07T08:38:57.195327Z",
     "iopub.status.busy": "2022-04-07T08:38:57.190027Z",
     "iopub.status.idle": "2022-04-07T08:38:57.198338Z",
     "shell.execute_reply": "2022-04-07T08:38:57.198975Z",
     "shell.execute_reply.started": "2022-04-07T07:55:34.505069Z"
    },
    "papermill": {
     "duration": 0.138339,
     "end_time": "2022-04-07T08:38:57.199126",
     "exception": false,
     "start_time": "2022-04-07T08:38:57.060787",
     "status": "completed"
    },
    "tags": []
   },
   "outputs": [
    {
     "name": "stdout",
     "output_type": "stream",
     "text": [
      "Model: \"model_2_LSTM\"\n",
      "_________________________________________________________________\n",
      "Layer (type)                 Output Shape              Param #   \n",
      "=================================================================\n",
      "input_2 (InputLayer)         [(None, 1)]               0         \n",
      "_________________________________________________________________\n",
      "text_vectorization_1 (TextVe (None, 15)                0         \n",
      "_________________________________________________________________\n",
      "embedding_2 (Embedding)      (None, 15, 128)           2560000   \n",
      "_________________________________________________________________\n",
      "lstm (LSTM)                  (None, 15, 256)           394240    \n",
      "_________________________________________________________________\n",
      "lstm_1 (LSTM)                (None, 15, 128)           197120    \n",
      "_________________________________________________________________\n",
      "lstm_2 (LSTM)                (None, 64)                49408     \n",
      "_________________________________________________________________\n",
      "dense_1 (Dense)              (None, 1)                 65        \n",
      "=================================================================\n",
      "Total params: 3,200,833\n",
      "Trainable params: 3,200,833\n",
      "Non-trainable params: 0\n",
      "_________________________________________________________________\n"
     ]
    }
   ],
   "source": [
    "model_2.summary()"
   ]
  },
  {
   "cell_type": "code",
   "execution_count": 36,
   "id": "d63f154e",
   "metadata": {
    "execution": {
     "iopub.execute_input": "2022-04-07T08:38:57.458240Z",
     "iopub.status.busy": "2022-04-07T08:38:57.457096Z",
     "iopub.status.idle": "2022-04-07T08:39:12.690918Z",
     "shell.execute_reply": "2022-04-07T08:39:12.691488Z",
     "shell.execute_reply.started": "2022-04-07T07:55:34.527171Z"
    },
    "papermill": {
     "duration": 15.365393,
     "end_time": "2022-04-07T08:39:12.691656",
     "exception": false,
     "start_time": "2022-04-07T08:38:57.326263",
     "status": "completed"
    },
    "tags": []
   },
   "outputs": [
    {
     "name": "stdout",
     "output_type": "stream",
     "text": [
      "Epoch 1/5\n"
     ]
    },
    {
     "name": "stderr",
     "output_type": "stream",
     "text": [
      "2022-04-07 08:39:01.591484: I tensorflow/stream_executor/cuda/cuda_dnn.cc:369] Loaded cuDNN version 8005\n"
     ]
    },
    {
     "name": "stdout",
     "output_type": "stream",
     "text": [
      "215/215 [==============================] - 7s 12ms/step - loss: 0.5050 - accuracy: 0.7583 - val_loss: 0.4676 - val_accuracy: 0.7822\n",
      "Epoch 2/5\n",
      "215/215 [==============================] - 2s 9ms/step - loss: 0.2750 - accuracy: 0.8943 - val_loss: 0.5573 - val_accuracy: 0.7756\n",
      "Epoch 3/5\n",
      "215/215 [==============================] - 2s 9ms/step - loss: 0.1452 - accuracy: 0.9508 - val_loss: 0.6431 - val_accuracy: 0.7546\n",
      "Epoch 4/5\n",
      "215/215 [==============================] - 2s 10ms/step - loss: 0.0832 - accuracy: 0.9731 - val_loss: 0.7604 - val_accuracy: 0.7717\n",
      "Epoch 5/5\n",
      "215/215 [==============================] - 2s 9ms/step - loss: 0.0541 - accuracy: 0.9819 - val_loss: 1.0209 - val_accuracy: 0.7572\n"
     ]
    }
   ],
   "source": [
    "# Fit model\n",
    "model_2_history = model_2.fit(train_sentences,\n",
    "                              train_labels,\n",
    "                              epochs=5,\n",
    "                              validation_data=(val_sentences, val_labels))"
   ]
  },
  {
   "cell_type": "code",
   "execution_count": 37,
   "id": "6f3e75cc",
   "metadata": {
    "execution": {
     "iopub.execute_input": "2022-04-07T08:39:13.080668Z",
     "iopub.status.busy": "2022-04-07T08:39:13.079813Z",
     "iopub.status.idle": "2022-04-07T08:39:13.229350Z",
     "shell.execute_reply": "2022-04-07T08:39:13.229774Z",
     "shell.execute_reply.started": "2022-04-07T07:56:00.577912Z"
    },
    "papermill": {
     "duration": 0.350452,
     "end_time": "2022-04-07T08:39:13.229922",
     "exception": false,
     "start_time": "2022-04-07T08:39:12.879470",
     "status": "completed"
    },
    "tags": []
   },
   "outputs": [
    {
     "name": "stdout",
     "output_type": "stream",
     "text": [
      "24/24 [==============================] - 0s 4ms/step - loss: 1.0209 - accuracy: 0.7572\n"
     ]
    },
    {
     "data": {
      "text/plain": [
       "[1.0209256410598755, 0.7572178244590759]"
      ]
     },
     "execution_count": 37,
     "metadata": {},
     "output_type": "execute_result"
    }
   ],
   "source": [
    "model_2.evaluate(val_sentences,val_labels)"
   ]
  },
  {
   "cell_type": "code",
   "execution_count": 38,
   "id": "6b575a99",
   "metadata": {
    "execution": {
     "iopub.execute_input": "2022-04-07T08:39:13.595043Z",
     "iopub.status.busy": "2022-04-07T08:39:13.594245Z",
     "iopub.status.idle": "2022-04-07T08:39:14.487161Z",
     "shell.execute_reply": "2022-04-07T08:39:14.486726Z",
     "shell.execute_reply.started": "2022-04-07T07:56:00.789840Z"
    },
    "papermill": {
     "duration": 1.077103,
     "end_time": "2022-04-07T08:39:14.487284",
     "exception": false,
     "start_time": "2022-04-07T08:39:13.410181",
     "status": "completed"
    },
    "tags": []
   },
   "outputs": [
    {
     "data": {
      "text/plain": [
       "array([[1.4377882e-03],\n",
       "       [6.6207629e-01],\n",
       "       [9.9790359e-01],\n",
       "       [1.8765158e-03],\n",
       "       [6.7232532e-04],\n",
       "       [9.9975091e-01],\n",
       "       [4.1793635e-01],\n",
       "       [9.9976557e-01],\n",
       "       [9.9971765e-01],\n",
       "       [2.2563171e-03]], dtype=float32)"
      ]
     },
     "execution_count": 38,
     "metadata": {},
     "output_type": "execute_result"
    }
   ],
   "source": [
    "model_2_pred_probs = model_2.predict(val_sentences)\n",
    "model_2_pred_probs[:10]"
   ]
  },
  {
   "cell_type": "code",
   "execution_count": 39,
   "id": "0bb9d621",
   "metadata": {
    "execution": {
     "iopub.execute_input": "2022-04-07T08:39:14.880587Z",
     "iopub.status.busy": "2022-04-07T08:39:14.879672Z",
     "iopub.status.idle": "2022-04-07T08:39:14.884838Z",
     "shell.execute_reply": "2022-04-07T08:39:14.885271Z",
     "shell.execute_reply.started": "2022-04-07T07:56:02.041594Z"
    },
    "papermill": {
     "duration": 0.204929,
     "end_time": "2022-04-07T08:39:14.885442",
     "exception": false,
     "start_time": "2022-04-07T08:39:14.680513",
     "status": "completed"
    },
    "tags": []
   },
   "outputs": [
    {
     "data": {
      "text/plain": [
       "<tf.Tensor: shape=(10,), dtype=float32, numpy=array([0., 1., 1., 0., 0., 1., 0., 1., 1., 0.], dtype=float32)>"
      ]
     },
     "execution_count": 39,
     "metadata": {},
     "output_type": "execute_result"
    }
   ],
   "source": [
    "model_2_preds = tf.squeeze(tf.round(model_2_pred_probs))\n",
    "model_2_preds[:10]"
   ]
  },
  {
   "cell_type": "code",
   "execution_count": 40,
   "id": "1220a14e",
   "metadata": {
    "execution": {
     "iopub.execute_input": "2022-04-07T08:39:15.376656Z",
     "iopub.status.busy": "2022-04-07T08:39:15.375810Z",
     "iopub.status.idle": "2022-04-07T08:39:15.381488Z",
     "shell.execute_reply": "2022-04-07T08:39:15.382078Z",
     "shell.execute_reply.started": "2022-04-07T07:56:02.056944Z"
    },
    "papermill": {
     "duration": 0.305356,
     "end_time": "2022-04-07T08:39:15.382276",
     "exception": false,
     "start_time": "2022-04-07T08:39:15.076920",
     "status": "completed"
    },
    "tags": []
   },
   "outputs": [
    {
     "data": {
      "text/plain": [
       "{'accuracy': 75.7217847769029,\n",
       " 'precision': 0.7573294948869645,\n",
       " 'recall': 0.7572178477690289,\n",
       " 'f1-score': 0.7558283776496815}"
      ]
     },
     "execution_count": 40,
     "metadata": {},
     "output_type": "execute_result"
    }
   ],
   "source": [
    "# Calculate model_2 metrics\n",
    "model_2_results = calculate_results(y_true=val_labels,y_pred=model_2_preds)\n",
    "model_2_results"
   ]
  },
  {
   "cell_type": "code",
   "execution_count": 41,
   "id": "65c3b6a7",
   "metadata": {
    "execution": {
     "iopub.execute_input": "2022-04-07T08:39:15.983801Z",
     "iopub.status.busy": "2022-04-07T08:39:15.982911Z",
     "iopub.status.idle": "2022-04-07T08:39:15.986523Z",
     "shell.execute_reply": "2022-04-07T08:39:15.984525Z",
     "shell.execute_reply.started": "2022-04-07T07:56:02.083429Z"
    },
    "papermill": {
     "duration": 0.309053,
     "end_time": "2022-04-07T08:39:15.986683",
     "exception": false,
     "start_time": "2022-04-07T08:39:15.677630",
     "status": "completed"
    },
    "tags": []
   },
   "outputs": [
    {
     "name": "stdout",
     "output_type": "stream",
     "text": [
      "Baseline accuracy: 79.27 , New accuracy: 75.72 , Difference: -3.54\n",
      "Baseline precision: 0.81 , New precision: 0.76 , Difference: -0.05\n",
      "Baseline recall: 0.79 , New recall: 0.76 , Difference: -0.04\n",
      "Baseline f1-score: 0.79 , New f1-score: 0.76 , Difference: -0.03\n"
     ]
    }
   ],
   "source": [
    "compare_baseline_to_new_results(baseline_results,model_2_results)"
   ]
  },
  {
   "cell_type": "markdown",
   "id": "030a8a98",
   "metadata": {
    "papermill": {
     "duration": 0.227526,
     "end_time": "2022-04-07T08:39:16.510519",
     "exception": false,
     "start_time": "2022-04-07T08:39:16.282993",
     "status": "completed"
    },
    "tags": []
   },
   "source": [
    "## Model 3: GRU"
   ]
  },
  {
   "cell_type": "code",
   "execution_count": 42,
   "id": "87aea371",
   "metadata": {
    "execution": {
     "iopub.execute_input": "2022-04-07T08:39:16.905837Z",
     "iopub.status.busy": "2022-04-07T08:39:16.904984Z",
     "iopub.status.idle": "2022-04-07T08:39:17.109901Z",
     "shell.execute_reply": "2022-04-07T08:39:17.109214Z",
     "shell.execute_reply.started": "2022-04-07T07:56:02.103729Z"
    },
    "papermill": {
     "duration": 0.419514,
     "end_time": "2022-04-07T08:39:17.110047",
     "exception": false,
     "start_time": "2022-04-07T08:39:16.690533",
     "status": "completed"
    },
    "tags": []
   },
   "outputs": [],
   "source": [
    "# Set random seed and create embedding layer (new embedding layer for each model)\n",
    "tf.random.set_seed(42)\n",
    "from tensorflow.keras import layers\n",
    "model_3_embedding = layers.Embedding(input_dim=max_vocab_length,\n",
    "                                    output_dim=128,\n",
    "                                    embeddings_initializer=\"uniform\",\n",
    "                                    input_length=max_length,\n",
    "                                    name=\"embedding_3\")\n",
    "# Build an RNN using the GRU cell\n",
    "inputs = layers.Input(shape=(1,),dtype=\"string\")\n",
    "x = text_vectorizer(inputs)\n",
    "x = model_3_embedding(x)\n",
    "x = layers.GRU(64)(x)\n",
    "outputs = layers.Dense(1,activation=\"sigmoid\")(x)\n",
    "model_3 = tf.keras.Model(inputs,outputs,name=\"model_3_GRU\")"
   ]
  },
  {
   "cell_type": "code",
   "execution_count": 43,
   "id": "5a8a6fe3",
   "metadata": {
    "execution": {
     "iopub.execute_input": "2022-04-07T08:39:17.537931Z",
     "iopub.status.busy": "2022-04-07T08:39:17.537135Z",
     "iopub.status.idle": "2022-04-07T08:39:17.551607Z",
     "shell.execute_reply": "2022-04-07T08:39:17.552287Z",
     "shell.execute_reply.started": "2022-04-07T07:56:02.471117Z"
    },
    "papermill": {
     "duration": 0.25742,
     "end_time": "2022-04-07T08:39:17.552552",
     "exception": false,
     "start_time": "2022-04-07T08:39:17.295132",
     "status": "completed"
    },
    "tags": []
   },
   "outputs": [],
   "source": [
    "model_3.compile(loss=\"binary_crossentropy\",\n",
    "               optimizer=tf.keras.optimizers.Adam(),\n",
    "               metrics=['accuracy'])"
   ]
  },
  {
   "cell_type": "code",
   "execution_count": 44,
   "id": "4258d19c",
   "metadata": {
    "execution": {
     "iopub.execute_input": "2022-04-07T08:39:18.108144Z",
     "iopub.status.busy": "2022-04-07T08:39:18.106978Z",
     "iopub.status.idle": "2022-04-07T08:39:18.112317Z",
     "shell.execute_reply": "2022-04-07T08:39:18.112864Z",
     "shell.execute_reply.started": "2022-04-07T07:56:02.488501Z"
    },
    "papermill": {
     "duration": 0.260955,
     "end_time": "2022-04-07T08:39:18.113034",
     "exception": false,
     "start_time": "2022-04-07T08:39:17.852079",
     "status": "completed"
    },
    "tags": []
   },
   "outputs": [
    {
     "name": "stdout",
     "output_type": "stream",
     "text": [
      "Model: \"model_3_GRU\"\n",
      "_________________________________________________________________\n",
      "Layer (type)                 Output Shape              Param #   \n",
      "=================================================================\n",
      "input_3 (InputLayer)         [(None, 1)]               0         \n",
      "_________________________________________________________________\n",
      "text_vectorization_1 (TextVe (None, 15)                0         \n",
      "_________________________________________________________________\n",
      "embedding_3 (Embedding)      (None, 15, 128)           2560000   \n",
      "_________________________________________________________________\n",
      "gru (GRU)                    (None, 64)                37248     \n",
      "_________________________________________________________________\n",
      "dense_2 (Dense)              (None, 1)                 65        \n",
      "=================================================================\n",
      "Total params: 2,597,313\n",
      "Trainable params: 2,597,313\n",
      "Non-trainable params: 0\n",
      "_________________________________________________________________\n"
     ]
    }
   ],
   "source": [
    "model_3.summary()"
   ]
  },
  {
   "cell_type": "code",
   "execution_count": 45,
   "id": "9b36c8f5",
   "metadata": {
    "execution": {
     "iopub.execute_input": "2022-04-07T08:39:18.482225Z",
     "iopub.status.busy": "2022-04-07T08:39:18.481474Z",
     "iopub.status.idle": "2022-04-07T08:39:26.200813Z",
     "shell.execute_reply": "2022-04-07T08:39:26.200295Z",
     "shell.execute_reply.started": "2022-04-07T07:56:02.504461Z"
    },
    "papermill": {
     "duration": 7.906049,
     "end_time": "2022-04-07T08:39:26.200944",
     "exception": false,
     "start_time": "2022-04-07T08:39:18.294895",
     "status": "completed"
    },
    "tags": []
   },
   "outputs": [
    {
     "name": "stdout",
     "output_type": "stream",
     "text": [
      "Epoch 1/5\n",
      "215/215 [==============================] - 3s 7ms/step - loss: 0.5235 - accuracy: 0.7298 - val_loss: 0.4652 - val_accuracy: 0.7782\n",
      "Epoch 2/5\n",
      "215/215 [==============================] - 1s 5ms/step - loss: 0.2699 - accuracy: 0.8933 - val_loss: 0.5058 - val_accuracy: 0.7743\n",
      "Epoch 3/5\n",
      "215/215 [==============================] - 1s 5ms/step - loss: 0.1339 - accuracy: 0.9523 - val_loss: 0.6679 - val_accuracy: 0.7533\n",
      "Epoch 4/5\n",
      "215/215 [==============================] - 1s 5ms/step - loss: 0.0759 - accuracy: 0.9747 - val_loss: 0.7586 - val_accuracy: 0.7769\n",
      "Epoch 5/5\n",
      "215/215 [==============================] - 1s 5ms/step - loss: 0.0483 - accuracy: 0.9850 - val_loss: 0.8764 - val_accuracy: 0.7651\n"
     ]
    }
   ],
   "source": [
    "model_3_history = model_3.fit(train_sentences,\n",
    "                              train_labels,\n",
    "                              epochs=5,\n",
    "                              validation_data=(val_sentences, val_labels))"
   ]
  },
  {
   "cell_type": "code",
   "execution_count": 46,
   "id": "fe5b9d99",
   "metadata": {
    "execution": {
     "iopub.execute_input": "2022-04-07T08:39:26.639165Z",
     "iopub.status.busy": "2022-04-07T08:39:26.638322Z",
     "iopub.status.idle": "2022-04-07T08:39:26.760046Z",
     "shell.execute_reply": "2022-04-07T08:39:26.760463Z",
     "shell.execute_reply.started": "2022-04-07T07:56:14.695595Z"
    },
    "papermill": {
     "duration": 0.342685,
     "end_time": "2022-04-07T08:39:26.760626",
     "exception": false,
     "start_time": "2022-04-07T08:39:26.417941",
     "status": "completed"
    },
    "tags": []
   },
   "outputs": [
    {
     "name": "stdout",
     "output_type": "stream",
     "text": [
      "24/24 [==============================] - 0s 3ms/step - loss: 0.8764 - accuracy: 0.7651\n"
     ]
    },
    {
     "data": {
      "text/plain": [
       "[0.8764430284500122, 0.7650918364524841]"
      ]
     },
     "execution_count": 46,
     "metadata": {},
     "output_type": "execute_result"
    }
   ],
   "source": [
    "model_3.evaluate(val_sentences,val_labels)"
   ]
  },
  {
   "cell_type": "code",
   "execution_count": 47,
   "id": "f4c38097",
   "metadata": {
    "execution": {
     "iopub.execute_input": "2022-04-07T08:39:27.207514Z",
     "iopub.status.busy": "2022-04-07T08:39:27.206673Z",
     "iopub.status.idle": "2022-04-07T08:39:27.565625Z",
     "shell.execute_reply": "2022-04-07T08:39:27.565153Z",
     "shell.execute_reply.started": "2022-04-07T07:56:14.899562Z"
    },
    "papermill": {
     "duration": 0.584783,
     "end_time": "2022-04-07T08:39:27.565759",
     "exception": false,
     "start_time": "2022-04-07T08:39:26.980976",
     "status": "completed"
    },
    "tags": []
   },
   "outputs": [
    {
     "data": {
      "text/plain": [
       "((762, 1),\n",
       " array([[5.2880734e-01],\n",
       "        [8.3089763e-01],\n",
       "        [9.9683124e-01],\n",
       "        [7.1825524e-04],\n",
       "        [2.9660955e-03],\n",
       "        [9.9718374e-01],\n",
       "        [7.0712125e-01],\n",
       "        [9.9804533e-01],\n",
       "        [9.9867451e-01],\n",
       "        [4.9781954e-01]], dtype=float32))"
      ]
     },
     "execution_count": 47,
     "metadata": {},
     "output_type": "execute_result"
    }
   ],
   "source": [
    "# Make predictions on the validation data\n",
    "model_3_pred_probs = model_3.predict(val_sentences)\n",
    "model_3_pred_probs.shape, model_3_pred_probs[:10]"
   ]
  },
  {
   "cell_type": "code",
   "execution_count": 48,
   "id": "686eb37c",
   "metadata": {
    "execution": {
     "iopub.execute_input": "2022-04-07T08:39:28.010168Z",
     "iopub.status.busy": "2022-04-07T08:39:28.008059Z",
     "iopub.status.idle": "2022-04-07T08:39:28.016348Z",
     "shell.execute_reply": "2022-04-07T08:39:28.015930Z",
     "shell.execute_reply.started": "2022-04-07T07:56:15.410656Z"
    },
    "papermill": {
     "duration": 0.231606,
     "end_time": "2022-04-07T08:39:28.016487",
     "exception": false,
     "start_time": "2022-04-07T08:39:27.784881",
     "status": "completed"
    },
    "tags": []
   },
   "outputs": [
    {
     "data": {
      "text/plain": [
       "<tf.Tensor: shape=(10,), dtype=float32, numpy=array([1., 1., 1., 0., 0., 1., 1., 1., 1., 0.], dtype=float32)>"
      ]
     },
     "execution_count": 48,
     "metadata": {},
     "output_type": "execute_result"
    }
   ],
   "source": [
    "# Convert prediction probabilities to prediction classes\n",
    "model_3_preds = tf.squeeze(tf.round(model_3_pred_probs))\n",
    "model_3_preds[:10]"
   ]
  },
  {
   "cell_type": "code",
   "execution_count": 49,
   "id": "1e67bda2",
   "metadata": {
    "execution": {
     "iopub.execute_input": "2022-04-07T08:39:28.495129Z",
     "iopub.status.busy": "2022-04-07T08:39:28.493697Z",
     "iopub.status.idle": "2022-04-07T08:39:28.504198Z",
     "shell.execute_reply": "2022-04-07T08:39:28.504835Z",
     "shell.execute_reply.started": "2022-04-07T07:56:15.423873Z"
    },
    "papermill": {
     "duration": 0.267347,
     "end_time": "2022-04-07T08:39:28.505056",
     "exception": false,
     "start_time": "2022-04-07T08:39:28.237709",
     "status": "completed"
    },
    "tags": []
   },
   "outputs": [
    {
     "data": {
      "text/plain": [
       "{'accuracy': 76.50918635170603,\n",
       " 'precision': 0.7647005526315572,\n",
       " 'recall': 0.7650918635170604,\n",
       " 'f1-score': 0.7646718610864184}"
      ]
     },
     "execution_count": 49,
     "metadata": {},
     "output_type": "execute_result"
    }
   ],
   "source": [
    "# Calcuate model_3 results\n",
    "model_3_results = calculate_results(y_true=val_labels, \n",
    "                                    y_pred=model_3_preds)\n",
    "model_3_results"
   ]
  },
  {
   "cell_type": "code",
   "execution_count": 50,
   "id": "ad38a703",
   "metadata": {
    "execution": {
     "iopub.execute_input": "2022-04-07T08:39:29.158448Z",
     "iopub.status.busy": "2022-04-07T08:39:29.157681Z",
     "iopub.status.idle": "2022-04-07T08:39:29.161611Z",
     "shell.execute_reply": "2022-04-07T08:39:29.160901Z",
     "shell.execute_reply.started": "2022-04-07T07:56:15.439519Z"
    },
    "papermill": {
     "duration": 0.284996,
     "end_time": "2022-04-07T08:39:29.161760",
     "exception": false,
     "start_time": "2022-04-07T08:39:28.876764",
     "status": "completed"
    },
    "tags": []
   },
   "outputs": [
    {
     "name": "stdout",
     "output_type": "stream",
     "text": [
      "Baseline accuracy: 79.27 , New accuracy: 76.51 , Difference: -2.76\n",
      "Baseline precision: 0.81 , New precision: 0.76 , Difference: -0.05\n",
      "Baseline recall: 0.79 , New recall: 0.77 , Difference: -0.03\n",
      "Baseline f1-score: 0.79 , New f1-score: 0.76 , Difference: -0.02\n"
     ]
    }
   ],
   "source": [
    "# Compare to baseline\n",
    "compare_baseline_to_new_results(baseline_results, model_3_results)"
   ]
  },
  {
   "cell_type": "markdown",
   "id": "ef433b9b",
   "metadata": {
    "papermill": {
     "duration": 0.220477,
     "end_time": "2022-04-07T08:39:29.603917",
     "exception": false,
     "start_time": "2022-04-07T08:39:29.383440",
     "status": "completed"
    },
    "tags": []
   },
   "source": [
    "## Model 4: Bidirectonal RNN model"
   ]
  },
  {
   "cell_type": "code",
   "execution_count": 51,
   "id": "6d6661e8",
   "metadata": {
    "execution": {
     "iopub.execute_input": "2022-04-07T08:39:30.070236Z",
     "iopub.status.busy": "2022-04-07T08:39:30.069328Z",
     "iopub.status.idle": "2022-04-07T08:39:30.878671Z",
     "shell.execute_reply": "2022-04-07T08:39:30.877783Z",
     "shell.execute_reply.started": "2022-04-07T07:56:15.449828Z"
    },
    "papermill": {
     "duration": 1.052792,
     "end_time": "2022-04-07T08:39:30.878811",
     "exception": false,
     "start_time": "2022-04-07T08:39:29.826019",
     "status": "completed"
    },
    "tags": []
   },
   "outputs": [],
   "source": [
    "# Set random seed and create embedding layer (new embedding layer for each model)\n",
    "tf.random.set_seed(42)\n",
    "from tensorflow.keras import layers\n",
    "\n",
    "model_4_embedding = layers.Embedding(input_dim=max_vocab_length,\n",
    "                                    output_dim=128,\n",
    "                                    embeddings_initializer=\"uniform\",\n",
    "                                    input_length=max_length,\n",
    "                                    name=\"embedding_4\")\n",
    "\n",
    "# Build a Bidirectional RNN in TensorFlow\n",
    "inputs = layers.Input(shape=(1,),dtype=\"string\")\n",
    "x=text_vectorizer(inputs)\n",
    "x=model_4_embedding(x)\n",
    "x=layers.Bidirectional(layers.LSTM(64,return_sequences=True))(x)\n",
    "x=layers.Bidirectional(layers.LSTM(64))(x)\n",
    "outputs=layers.Dense(1,activation=\"sigmoid\")(x)\n",
    "model_4 = tf.keras.Model(inputs,outputs,name=\"model_4_Bidirectional\")"
   ]
  },
  {
   "cell_type": "code",
   "execution_count": 52,
   "id": "0a960e9e",
   "metadata": {
    "execution": {
     "iopub.execute_input": "2022-04-07T08:39:31.334510Z",
     "iopub.status.busy": "2022-04-07T08:39:31.333654Z",
     "iopub.status.idle": "2022-04-07T08:39:31.338718Z",
     "shell.execute_reply": "2022-04-07T08:39:31.338280Z",
     "shell.execute_reply.started": "2022-04-07T07:56:16.605793Z"
    },
    "papermill": {
     "duration": 0.235671,
     "end_time": "2022-04-07T08:39:31.338839",
     "exception": false,
     "start_time": "2022-04-07T08:39:31.103168",
     "status": "completed"
    },
    "tags": []
   },
   "outputs": [],
   "source": [
    "model_4.compile(loss=\"binary_crossentropy\",\n",
    "               optimizer=tf.keras.optimizers.Adam(),\n",
    "               metrics=['accuracy'])"
   ]
  },
  {
   "cell_type": "code",
   "execution_count": 53,
   "id": "51c077cb",
   "metadata": {
    "execution": {
     "iopub.execute_input": "2022-04-07T08:39:31.804122Z",
     "iopub.status.busy": "2022-04-07T08:39:31.803279Z",
     "iopub.status.idle": "2022-04-07T08:39:31.808197Z",
     "shell.execute_reply": "2022-04-07T08:39:31.807597Z",
     "shell.execute_reply.started": "2022-04-07T07:56:16.621544Z"
    },
    "papermill": {
     "duration": 0.235048,
     "end_time": "2022-04-07T08:39:31.808351",
     "exception": false,
     "start_time": "2022-04-07T08:39:31.573303",
     "status": "completed"
    },
    "tags": []
   },
   "outputs": [
    {
     "name": "stdout",
     "output_type": "stream",
     "text": [
      "Model: \"model_4_Bidirectional\"\n",
      "_________________________________________________________________\n",
      "Layer (type)                 Output Shape              Param #   \n",
      "=================================================================\n",
      "input_4 (InputLayer)         [(None, 1)]               0         \n",
      "_________________________________________________________________\n",
      "text_vectorization_1 (TextVe (None, 15)                0         \n",
      "_________________________________________________________________\n",
      "embedding_4 (Embedding)      (None, 15, 128)           2560000   \n",
      "_________________________________________________________________\n",
      "bidirectional (Bidirectional (None, 15, 128)           98816     \n",
      "_________________________________________________________________\n",
      "bidirectional_1 (Bidirection (None, 128)               98816     \n",
      "_________________________________________________________________\n",
      "dense_3 (Dense)              (None, 1)                 129       \n",
      "=================================================================\n",
      "Total params: 2,757,761\n",
      "Trainable params: 2,757,761\n",
      "Non-trainable params: 0\n",
      "_________________________________________________________________\n"
     ]
    }
   ],
   "source": [
    "model_4.summary()"
   ]
  },
  {
   "cell_type": "code",
   "execution_count": 54,
   "id": "21cd1513",
   "metadata": {
    "execution": {
     "iopub.execute_input": "2022-04-07T08:39:32.271925Z",
     "iopub.status.busy": "2022-04-07T08:39:32.270995Z",
     "iopub.status.idle": "2022-04-07T08:39:49.801778Z",
     "shell.execute_reply": "2022-04-07T08:39:49.802206Z",
     "shell.execute_reply.started": "2022-04-07T07:56:16.638769Z"
    },
    "papermill": {
     "duration": 17.763229,
     "end_time": "2022-04-07T08:39:49.802354",
     "exception": false,
     "start_time": "2022-04-07T08:39:32.039125",
     "status": "completed"
    },
    "tags": []
   },
   "outputs": [
    {
     "name": "stdout",
     "output_type": "stream",
     "text": [
      "Epoch 1/5\n",
      "215/215 [==============================] - 8s 17ms/step - loss: 0.5036 - accuracy: 0.7517 - val_loss: 0.4553 - val_accuracy: 0.7848\n",
      "Epoch 2/5\n",
      "215/215 [==============================] - 2s 11ms/step - loss: 0.2542 - accuracy: 0.9019 - val_loss: 0.5389 - val_accuracy: 0.7717\n",
      "Epoch 3/5\n",
      "215/215 [==============================] - 2s 11ms/step - loss: 0.1208 - accuracy: 0.9577 - val_loss: 0.6129 - val_accuracy: 0.7546\n",
      "Epoch 4/5\n",
      "215/215 [==============================] - 2s 11ms/step - loss: 0.0620 - accuracy: 0.9812 - val_loss: 0.9511 - val_accuracy: 0.7546\n",
      "Epoch 5/5\n",
      "215/215 [==============================] - 3s 12ms/step - loss: 0.0468 - accuracy: 0.9858 - val_loss: 0.9382 - val_accuracy: 0.7520\n"
     ]
    }
   ],
   "source": [
    "model_4_history = model_4.fit(train_sentences,\n",
    "                             train_labels,\n",
    "                             epochs=5,\n",
    "                             validation_data=(val_sentences,val_labels))"
   ]
  },
  {
   "cell_type": "code",
   "execution_count": 55,
   "id": "6dd379f2",
   "metadata": {
    "execution": {
     "iopub.execute_input": "2022-04-07T08:39:50.373740Z",
     "iopub.status.busy": "2022-04-07T08:39:50.372943Z",
     "iopub.status.idle": "2022-04-07T08:39:50.656551Z",
     "shell.execute_reply": "2022-04-07T08:39:50.657173Z",
     "shell.execute_reply.started": "2022-04-07T07:56:43.227172Z"
    },
    "papermill": {
     "duration": 0.571047,
     "end_time": "2022-04-07T08:39:50.657397",
     "exception": false,
     "start_time": "2022-04-07T08:39:50.086350",
     "status": "completed"
    },
    "tags": []
   },
   "outputs": [
    {
     "name": "stdout",
     "output_type": "stream",
     "text": [
      "24/24 [==============================] - 0s 10ms/step - loss: 0.9382 - accuracy: 0.7520\n"
     ]
    },
    {
     "data": {
      "text/plain": [
       "[0.9381634593009949, 0.751968502998352]"
      ]
     },
     "execution_count": 55,
     "metadata": {},
     "output_type": "execute_result"
    }
   ],
   "source": [
    "model_4.evaluate(val_sentences,val_labels)"
   ]
  },
  {
   "cell_type": "code",
   "execution_count": 56,
   "id": "8a63855d",
   "metadata": {
    "execution": {
     "iopub.execute_input": "2022-04-07T08:39:51.398823Z",
     "iopub.status.busy": "2022-04-07T08:39:51.398002Z",
     "iopub.status.idle": "2022-04-07T08:39:52.841209Z",
     "shell.execute_reply": "2022-04-07T08:39:52.841667Z",
     "shell.execute_reply.started": "2022-04-07T07:56:43.581094Z"
    },
    "papermill": {
     "duration": 1.740289,
     "end_time": "2022-04-07T08:39:52.841830",
     "exception": false,
     "start_time": "2022-04-07T08:39:51.101541",
     "status": "completed"
    },
    "tags": []
   },
   "outputs": [
    {
     "data": {
      "text/plain": [
       "array([[0.00362644],\n",
       "       [0.9312226 ],\n",
       "       [0.998026  ],\n",
       "       [0.00122166],\n",
       "       [0.00138863],\n",
       "       [0.9991334 ],\n",
       "       [0.8158407 ],\n",
       "       [0.9995432 ],\n",
       "       [0.9992874 ],\n",
       "       [0.2432618 ]], dtype=float32)"
      ]
     },
     "execution_count": 56,
     "metadata": {},
     "output_type": "execute_result"
    }
   ],
   "source": [
    "model_4_pred_probs = model_4.predict(val_sentences)\n",
    "model_4_pred_probs[:10]"
   ]
  },
  {
   "cell_type": "code",
   "execution_count": 57,
   "id": "749447d9",
   "metadata": {
    "execution": {
     "iopub.execute_input": "2022-04-07T08:39:53.421449Z",
     "iopub.status.busy": "2022-04-07T08:39:53.420658Z",
     "iopub.status.idle": "2022-04-07T08:39:53.426250Z",
     "shell.execute_reply": "2022-04-07T08:39:53.426688Z",
     "shell.execute_reply.started": "2022-04-07T07:56:46.199856Z"
    },
    "papermill": {
     "duration": 0.295487,
     "end_time": "2022-04-07T08:39:53.426827",
     "exception": false,
     "start_time": "2022-04-07T08:39:53.131340",
     "status": "completed"
    },
    "tags": []
   },
   "outputs": [
    {
     "data": {
      "text/plain": [
       "<tf.Tensor: shape=(10,), dtype=float32, numpy=array([0., 1., 1., 0., 0., 1., 1., 1., 1., 0.], dtype=float32)>"
      ]
     },
     "execution_count": 57,
     "metadata": {},
     "output_type": "execute_result"
    }
   ],
   "source": [
    "model_4_preds = tf.squeeze(tf.round(model_4_pred_probs))\n",
    "model_4_preds[:10]"
   ]
  },
  {
   "cell_type": "code",
   "execution_count": 58,
   "id": "ed68e98e",
   "metadata": {
    "execution": {
     "iopub.execute_input": "2022-04-07T08:39:54.053321Z",
     "iopub.status.busy": "2022-04-07T08:39:54.052495Z",
     "iopub.status.idle": "2022-04-07T08:39:54.059158Z",
     "shell.execute_reply": "2022-04-07T08:39:54.058767Z",
     "shell.execute_reply.started": "2022-04-07T07:56:46.217643Z"
    },
    "papermill": {
     "duration": 0.346492,
     "end_time": "2022-04-07T08:39:54.059272",
     "exception": false,
     "start_time": "2022-04-07T08:39:53.712780",
     "status": "completed"
    },
    "tags": []
   },
   "outputs": [
    {
     "data": {
      "text/plain": [
       "{'accuracy': 75.19685039370079,\n",
       " 'precision': 0.7515814976569224,\n",
       " 'recall': 0.7519685039370079,\n",
       " 'f1-score': 0.7510820012604243}"
      ]
     },
     "execution_count": 58,
     "metadata": {},
     "output_type": "execute_result"
    }
   ],
   "source": [
    "model_4_results = calculate_results(val_labels,model_4_preds)\n",
    "model_4_results"
   ]
  },
  {
   "cell_type": "code",
   "execution_count": 59,
   "id": "a43d34fc",
   "metadata": {
    "execution": {
     "iopub.execute_input": "2022-04-07T08:39:54.636804Z",
     "iopub.status.busy": "2022-04-07T08:39:54.636156Z",
     "iopub.status.idle": "2022-04-07T08:39:54.639074Z",
     "shell.execute_reply": "2022-04-07T08:39:54.639503Z",
     "shell.execute_reply.started": "2022-04-07T07:56:46.238351Z"
    },
    "papermill": {
     "duration": 0.294392,
     "end_time": "2022-04-07T08:39:54.639643",
     "exception": false,
     "start_time": "2022-04-07T08:39:54.345251",
     "status": "completed"
    },
    "tags": []
   },
   "outputs": [
    {
     "name": "stdout",
     "output_type": "stream",
     "text": [
      "Baseline accuracy: 79.27 , New accuracy: 75.20 , Difference: -4.07\n",
      "Baseline precision: 0.81 , New precision: 0.75 , Difference: -0.06\n",
      "Baseline recall: 0.79 , New recall: 0.75 , Difference: -0.04\n",
      "Baseline f1-score: 0.79 , New f1-score: 0.75 , Difference: -0.04\n"
     ]
    }
   ],
   "source": [
    "# Check to see how the bidirectional model performs against the baseline\n",
    "compare_baseline_to_new_results(baseline_results, model_4_results)"
   ]
  },
  {
   "cell_type": "markdown",
   "id": "e830319c",
   "metadata": {
    "papermill": {
     "duration": 0.288288,
     "end_time": "2022-04-07T08:39:55.216459",
     "exception": false,
     "start_time": "2022-04-07T08:39:54.928171",
     "status": "completed"
    },
    "tags": []
   },
   "source": [
    "## Convolutional Neural Networks for Text"
   ]
  },
  {
   "cell_type": "code",
   "execution_count": 60,
   "id": "59f0c468",
   "metadata": {
    "execution": {
     "iopub.execute_input": "2022-04-07T08:39:55.831189Z",
     "iopub.status.busy": "2022-04-07T08:39:55.795283Z",
     "iopub.status.idle": "2022-04-07T08:39:55.890905Z",
     "shell.execute_reply": "2022-04-07T08:39:55.890302Z",
     "shell.execute_reply.started": "2022-04-07T07:56:46.248338Z"
    },
    "papermill": {
     "duration": 0.385927,
     "end_time": "2022-04-07T08:39:55.891047",
     "exception": false,
     "start_time": "2022-04-07T08:39:55.505120",
     "status": "completed"
    },
    "tags": []
   },
   "outputs": [
    {
     "name": "stdout",
     "output_type": "stream",
     "text": [
      "Model: \"model_5_Conv1D\"\n",
      "_________________________________________________________________\n",
      "Layer (type)                 Output Shape              Param #   \n",
      "=================================================================\n",
      "input_5 (InputLayer)         [(None, 1)]               0         \n",
      "_________________________________________________________________\n",
      "text_vectorization_1 (TextVe (None, 15)                0         \n",
      "_________________________________________________________________\n",
      "embeddings_5 (Embedding)     (None, 15, 128)           2560000   \n",
      "_________________________________________________________________\n",
      "conv1d (Conv1D)              (None, 13, 32)            12320     \n",
      "_________________________________________________________________\n",
      "global_max_pooling1d (Global (None, 32)                0         \n",
      "_________________________________________________________________\n",
      "dense_4 (Dense)              (None, 1)                 33        \n",
      "=================================================================\n",
      "Total params: 2,572,353\n",
      "Trainable params: 2,572,353\n",
      "Non-trainable params: 0\n",
      "_________________________________________________________________\n"
     ]
    }
   ],
   "source": [
    "tf.random.set_seed(42)\n",
    "from tensorflow.keras import layers\n",
    "\n",
    "model_5_embedding = layers.Embedding(input_dim=max_vocab_length,\n",
    "                                    output_dim=128,\n",
    "                                    embeddings_initializer=\"uniform\",\n",
    "                                    input_length=max_length,\n",
    "                                    name=\"embeddings_5\")\n",
    "\n",
    "# Create 1-dimensional convolutional layer to model sequences\n",
    "inputs = layers.Input(shape=(1,),dtype=\"string\")\n",
    "x=text_vectorizer(inputs)\n",
    "x=model_5_embedding(x)\n",
    "x=layers.Conv1D(filters=32,kernel_size=3,activation=\"relu\")(x)\n",
    "x=layers.GlobalMaxPool1D()(x)\n",
    "outputs=layers.Dense(1,activation=\"sigmoid\")(x)\n",
    "model_5 = tf.keras.Model(inputs,outputs,name=\"model_5_Conv1D\")\n",
    "\n",
    "# Compile Conv1D model\n",
    "model_5.compile(loss=\"binary_crossentropy\",\n",
    "                optimizer=tf.keras.optimizers.Adam(),\n",
    "                metrics=[\"accuracy\"])\n",
    "\n",
    "model_5.summary()"
   ]
  },
  {
   "cell_type": "code",
   "execution_count": 61,
   "id": "609b6b47",
   "metadata": {
    "execution": {
     "iopub.execute_input": "2022-04-07T08:39:56.472097Z",
     "iopub.status.busy": "2022-04-07T08:39:56.471341Z",
     "iopub.status.idle": "2022-04-07T08:40:06.920075Z",
     "shell.execute_reply": "2022-04-07T08:40:06.919602Z",
     "shell.execute_reply.started": "2022-04-07T07:56:46.380437Z"
    },
    "papermill": {
     "duration": 10.740333,
     "end_time": "2022-04-07T08:40:06.920200",
     "exception": false,
     "start_time": "2022-04-07T08:39:56.179867",
     "status": "completed"
    },
    "tags": []
   },
   "outputs": [
    {
     "name": "stdout",
     "output_type": "stream",
     "text": [
      "Epoch 1/5\n",
      "215/215 [==============================] - 6s 6ms/step - loss: 0.5783 - accuracy: 0.7082 - val_loss: 0.4891 - val_accuracy: 0.7559\n",
      "Epoch 2/5\n",
      "215/215 [==============================] - 1s 5ms/step - loss: 0.3369 - accuracy: 0.8632 - val_loss: 0.4774 - val_accuracy: 0.7743\n",
      "Epoch 3/5\n",
      "215/215 [==============================] - 1s 5ms/step - loss: 0.1704 - accuracy: 0.9380 - val_loss: 0.5517 - val_accuracy: 0.7769\n",
      "Epoch 4/5\n",
      "215/215 [==============================] - 1s 5ms/step - loss: 0.0780 - accuracy: 0.9780 - val_loss: 0.6475 - val_accuracy: 0.7690\n",
      "Epoch 5/5\n",
      "215/215 [==============================] - 1s 5ms/step - loss: 0.0436 - accuracy: 0.9883 - val_loss: 0.7091 - val_accuracy: 0.7743\n"
     ]
    }
   ],
   "source": [
    "# Fit the model\n",
    "model_5_history = model_5.fit(train_sentences,\n",
    "                              train_labels,\n",
    "                              epochs=5,\n",
    "                              validation_data=(val_sentences, val_labels))"
   ]
  },
  {
   "cell_type": "code",
   "execution_count": 62,
   "id": "932c128c",
   "metadata": {
    "execution": {
     "iopub.execute_input": "2022-04-07T08:40:07.567089Z",
     "iopub.status.busy": "2022-04-07T08:40:07.566251Z",
     "iopub.status.idle": "2022-04-07T08:40:07.680533Z",
     "shell.execute_reply": "2022-04-07T08:40:07.680982Z",
     "shell.execute_reply.started": "2022-04-07T07:57:07.579222Z"
    },
    "papermill": {
     "duration": 0.438659,
     "end_time": "2022-04-07T08:40:07.681135",
     "exception": false,
     "start_time": "2022-04-07T08:40:07.242476",
     "status": "completed"
    },
    "tags": []
   },
   "outputs": [
    {
     "name": "stdout",
     "output_type": "stream",
     "text": [
      "24/24 [==============================] - 0s 3ms/step - loss: 0.7091 - accuracy: 0.7743\n"
     ]
    },
    {
     "data": {
      "text/plain": [
       "[0.7091068625450134, 0.7742782235145569]"
      ]
     },
     "execution_count": 62,
     "metadata": {},
     "output_type": "execute_result"
    }
   ],
   "source": [
    "model_5.evaluate(val_sentences,val_labels)"
   ]
  },
  {
   "cell_type": "code",
   "execution_count": 63,
   "id": "7fe152ec",
   "metadata": {
    "execution": {
     "iopub.execute_input": "2022-04-07T08:40:08.328936Z",
     "iopub.status.busy": "2022-04-07T08:40:08.328060Z",
     "iopub.status.idle": "2022-04-07T08:40:08.477585Z",
     "shell.execute_reply": "2022-04-07T08:40:08.477106Z",
     "shell.execute_reply.started": "2022-04-07T07:57:07.740920Z"
    },
    "papermill": {
     "duration": 0.475985,
     "end_time": "2022-04-07T08:40:08.477713",
     "exception": false,
     "start_time": "2022-04-07T08:40:08.001728",
     "status": "completed"
    },
    "tags": []
   },
   "outputs": [
    {
     "data": {
      "text/plain": [
       "array([[0.07540861],\n",
       "       [0.7039569 ],\n",
       "       [0.99977463],\n",
       "       [0.00606724],\n",
       "       [0.00863569],\n",
       "       [0.98857236],\n",
       "       [0.9959416 ],\n",
       "       [0.9984505 ],\n",
       "       [0.9974668 ],\n",
       "       [0.03216429]], dtype=float32)"
      ]
     },
     "execution_count": 63,
     "metadata": {},
     "output_type": "execute_result"
    }
   ],
   "source": [
    "model_5_pred_probs = model_5.predict(val_sentences)\n",
    "model_5_pred_probs[:10]"
   ]
  },
  {
   "cell_type": "code",
   "execution_count": 64,
   "id": "66312837",
   "metadata": {
    "execution": {
     "iopub.execute_input": "2022-04-07T08:40:09.164235Z",
     "iopub.status.busy": "2022-04-07T08:40:09.163424Z",
     "iopub.status.idle": "2022-04-07T08:40:09.169186Z",
     "shell.execute_reply": "2022-04-07T08:40:09.168768Z",
     "shell.execute_reply.started": "2022-04-07T07:57:07.959558Z"
    },
    "papermill": {
     "duration": 0.349995,
     "end_time": "2022-04-07T08:40:09.169294",
     "exception": false,
     "start_time": "2022-04-07T08:40:08.819299",
     "status": "completed"
    },
    "tags": []
   },
   "outputs": [
    {
     "data": {
      "text/plain": [
       "<tf.Tensor: shape=(10,), dtype=float32, numpy=array([0., 1., 1., 0., 0., 1., 1., 1., 1., 0.], dtype=float32)>"
      ]
     },
     "execution_count": 64,
     "metadata": {},
     "output_type": "execute_result"
    }
   ],
   "source": [
    "model_5_preds = tf.squeeze(tf.round(model_5_pred_probs))\n",
    "model_5_preds[:10]"
   ]
  },
  {
   "cell_type": "code",
   "execution_count": 65,
   "id": "3144bb5a",
   "metadata": {
    "execution": {
     "iopub.execute_input": "2022-04-07T08:40:09.813495Z",
     "iopub.status.busy": "2022-04-07T08:40:09.812641Z",
     "iopub.status.idle": "2022-04-07T08:40:09.819193Z",
     "shell.execute_reply": "2022-04-07T08:40:09.818762Z",
     "shell.execute_reply.started": "2022-04-07T07:57:07.973685Z"
    },
    "papermill": {
     "duration": 0.33134,
     "end_time": "2022-04-07T08:40:09.819301",
     "exception": false,
     "start_time": "2022-04-07T08:40:09.487961",
     "status": "completed"
    },
    "tags": []
   },
   "outputs": [
    {
     "data": {
      "text/plain": [
       "{'accuracy': 77.42782152230971,\n",
       " 'precision': 0.7740592463511713,\n",
       " 'recall': 0.7742782152230971,\n",
       " 'f1-score': 0.7735154339779791}"
      ]
     },
     "execution_count": 65,
     "metadata": {},
     "output_type": "execute_result"
    }
   ],
   "source": [
    "model_5_results = calculate_results(y_true=val_labels,y_pred=model_5_preds)\n",
    "model_5_results"
   ]
  },
  {
   "cell_type": "code",
   "execution_count": 66,
   "id": "6d2b17d8",
   "metadata": {
    "execution": {
     "iopub.execute_input": "2022-04-07T08:40:10.475474Z",
     "iopub.status.busy": "2022-04-07T08:40:10.473821Z",
     "iopub.status.idle": "2022-04-07T08:40:10.477759Z",
     "shell.execute_reply": "2022-04-07T08:40:10.477287Z",
     "shell.execute_reply.started": "2022-04-07T07:57:07.990655Z"
    },
    "papermill": {
     "duration": 0.337597,
     "end_time": "2022-04-07T08:40:10.477874",
     "exception": false,
     "start_time": "2022-04-07T08:40:10.140277",
     "status": "completed"
    },
    "tags": []
   },
   "outputs": [
    {
     "name": "stdout",
     "output_type": "stream",
     "text": [
      "Baseline accuracy: 79.27 , New accuracy: 77.43 , Difference: -1.84\n",
      "Baseline precision: 0.81 , New precision: 0.77 , Difference: -0.04\n",
      "Baseline recall: 0.79 , New recall: 0.77 , Difference: -0.02\n",
      "Baseline f1-score: 0.79 , New f1-score: 0.77 , Difference: -0.01\n"
     ]
    }
   ],
   "source": [
    "compare_baseline_to_new_results(baseline_results, model_5_results)"
   ]
  },
  {
   "cell_type": "markdown",
   "id": "f026b22e",
   "metadata": {
    "papermill": {
     "duration": 0.323521,
     "end_time": "2022-04-07T08:40:11.123109",
     "exception": false,
     "start_time": "2022-04-07T08:40:10.799588",
     "status": "completed"
    },
    "tags": []
   },
   "source": [
    "## Using Pretrained Embeddings (transfer learning for NLP)"
   ]
  },
  {
   "cell_type": "code",
   "execution_count": 67,
   "id": "cd077fa3",
   "metadata": {
    "execution": {
     "iopub.execute_input": "2022-04-07T08:40:11.780822Z",
     "iopub.status.busy": "2022-04-07T08:40:11.780088Z",
     "iopub.status.idle": "2022-04-07T08:40:29.972694Z",
     "shell.execute_reply": "2022-04-07T08:40:29.972040Z",
     "shell.execute_reply.started": "2022-04-07T07:57:08.001166Z"
    },
    "papermill": {
     "duration": 18.518754,
     "end_time": "2022-04-07T08:40:29.972878",
     "exception": false,
     "start_time": "2022-04-07T08:40:11.454124",
     "status": "completed"
    },
    "tags": []
   },
   "outputs": [
    {
     "name": "stdout",
     "output_type": "stream",
     "text": [
      "(2, 512)\n",
      "tf.Tensor(\n",
      "[-0.01157032  0.02485909  0.02878048 -0.01271501  0.03971539  0.0882776\n",
      "  0.02680985  0.05589837 -0.0106873  -0.00597291  0.00639325 -0.0181952\n",
      "  0.00030816  0.09105889  0.05874643 -0.03180627  0.01512473 -0.05162929\n",
      "  0.00991365 -0.06865346 -0.04209305  0.02678981  0.03011008  0.00321067\n",
      " -0.0033797  -0.04787361  0.02266722 -0.00985925 -0.04063613 -0.0129209\n",
      " -0.04666385  0.056303   -0.03949255  0.00517688  0.02495828 -0.07014443\n",
      "  0.02871508  0.04947681 -0.00633976 -0.08960193  0.02807116 -0.00808363\n",
      " -0.01360604  0.0599865  -0.10361787 -0.05195372  0.00232956 -0.02332528\n",
      " -0.03758106  0.03327731], shape=(50,), dtype=float32)\n"
     ]
    }
   ],
   "source": [
    "import tensorflow_hub as hub\n",
    "embed = hub.load(\"https://tfhub.dev/google/universal-sentence-encoder/4\")\n",
    "embed_samples = embed([sample_sentence,\"When you call the universal sentence encoder on a sentence, it turns it into numbers.\"])\n",
    "print(embed_samples.shape)\n",
    "print(embed_samples[0][:50])"
   ]
  },
  {
   "cell_type": "code",
   "execution_count": 68,
   "id": "1f052324",
   "metadata": {
    "execution": {
     "iopub.execute_input": "2022-04-07T08:40:30.627339Z",
     "iopub.status.busy": "2022-04-07T08:40:30.626070Z",
     "iopub.status.idle": "2022-04-07T08:40:35.645113Z",
     "shell.execute_reply": "2022-04-07T08:40:35.645889Z",
     "shell.execute_reply.started": "2022-04-07T07:57:29.868690Z"
    },
    "papermill": {
     "duration": 5.348339,
     "end_time": "2022-04-07T08:40:35.646057",
     "exception": false,
     "start_time": "2022-04-07T08:40:30.297718",
     "status": "completed"
    },
    "tags": []
   },
   "outputs": [],
   "source": [
    "# We can use this encoding layer in place of our text_vectorizer and embedding layer\n",
    "sentence_encoder_layer = hub.KerasLayer(\"https://tfhub.dev/google/universal-sentence-encoder/4\",\n",
    "                                       input_shape=[],\n",
    "                                       dtype=\"string\",\n",
    "                                       trainable=False,\n",
    "                                       name=\"USE\")"
   ]
  },
  {
   "cell_type": "code",
   "execution_count": 69,
   "id": "c4688a7e",
   "metadata": {
    "execution": {
     "iopub.execute_input": "2022-04-07T08:40:36.309734Z",
     "iopub.status.busy": "2022-04-07T08:40:36.308800Z",
     "iopub.status.idle": "2022-04-07T08:40:36.943835Z",
     "shell.execute_reply": "2022-04-07T08:40:36.944458Z",
     "shell.execute_reply.started": "2022-04-07T07:57:35.712466Z"
    },
    "papermill": {
     "duration": 0.9698,
     "end_time": "2022-04-07T08:40:36.944654",
     "exception": false,
     "start_time": "2022-04-07T08:40:35.974854",
     "status": "completed"
    },
    "tags": []
   },
   "outputs": [
    {
     "name": "stdout",
     "output_type": "stream",
     "text": [
      "Model: \"model_6_USE\"\n",
      "_________________________________________________________________\n",
      "Layer (type)                 Output Shape              Param #   \n",
      "=================================================================\n",
      "USE (KerasLayer)             (None, 512)               256797824 \n",
      "_________________________________________________________________\n",
      "dense_5 (Dense)              (None, 512)               262656    \n",
      "_________________________________________________________________\n",
      "dense_6 (Dense)              (None, 256)               131328    \n",
      "_________________________________________________________________\n",
      "dense_7 (Dense)              (None, 128)               32896     \n",
      "_________________________________________________________________\n",
      "dense_8 (Dense)              (None, 64)                8256      \n",
      "_________________________________________________________________\n",
      "dense_9 (Dense)              (None, 1)                 65        \n",
      "=================================================================\n",
      "Total params: 257,233,025\n",
      "Trainable params: 435,201\n",
      "Non-trainable params: 256,797,824\n",
      "_________________________________________________________________\n"
     ]
    }
   ],
   "source": [
    "# Create model using the Sequential API\n",
    "model_6 = tf.keras.Sequential([\n",
    "    sentence_encoder_layer, # take in sentences and then encode them into an embedding\n",
    "    layers.Dense(512,activation=\"relu\"),\n",
    "    layers.Dense(256,activation=\"relu\"),\n",
    "    layers.Dense(128,activation=\"relu\"),\n",
    "    layers.Dense(64,activation=\"relu\"),\n",
    "    layers.Dense(1,activation=\"sigmoid\")\n",
    "],name=\"model_6_USE\")\n",
    "\n",
    "# Compile model\n",
    "model_6.compile(loss=\"binary_crossentropy\",\n",
    "                optimizer=tf.keras.optimizers.Adam(),\n",
    "                metrics=[\"accuracy\"])\n",
    "\n",
    "model_6.summary()"
   ]
  },
  {
   "cell_type": "code",
   "execution_count": 70,
   "id": "b35eab5a",
   "metadata": {
    "execution": {
     "iopub.execute_input": "2022-04-07T08:40:37.599405Z",
     "iopub.status.busy": "2022-04-07T08:40:37.598636Z",
     "iopub.status.idle": "2022-04-07T08:41:00.111793Z",
     "shell.execute_reply": "2022-04-07T08:41:00.112204Z",
     "shell.execute_reply.started": "2022-04-07T07:57:36.535606Z"
    },
    "papermill": {
     "duration": 22.842309,
     "end_time": "2022-04-07T08:41:00.112386",
     "exception": false,
     "start_time": "2022-04-07T08:40:37.270077",
     "status": "completed"
    },
    "tags": []
   },
   "outputs": [
    {
     "name": "stdout",
     "output_type": "stream",
     "text": [
      "Epoch 1/5\n",
      "215/215 [==============================] - 5s 14ms/step - loss: 0.4496 - accuracy: 0.8046 - val_loss: 0.4348 - val_accuracy: 0.8071\n",
      "Epoch 2/5\n",
      "215/215 [==============================] - 2s 11ms/step - loss: 0.3723 - accuracy: 0.8429 - val_loss: 0.4545 - val_accuracy: 0.8189\n",
      "Epoch 3/5\n",
      "215/215 [==============================] - 3s 12ms/step - loss: 0.3150 - accuracy: 0.8710 - val_loss: 0.4321 - val_accuracy: 0.8268\n",
      "Epoch 4/5\n",
      "215/215 [==============================] - 2s 11ms/step - loss: 0.2378 - accuracy: 0.9069 - val_loss: 0.5825 - val_accuracy: 0.8097\n",
      "Epoch 5/5\n",
      "215/215 [==============================] - 2s 11ms/step - loss: 0.1658 - accuracy: 0.9345 - val_loss: 0.5891 - val_accuracy: 0.8215\n"
     ]
    }
   ],
   "source": [
    "# Train a classifier on top of pretrained embeddings\n",
    "model_6_history = model_6.fit(train_sentences,\n",
    "                              train_labels,\n",
    "                              epochs=5,\n",
    "                              validation_data=(val_sentences, val_labels))"
   ]
  },
  {
   "cell_type": "code",
   "execution_count": 71,
   "id": "d520e5e0",
   "metadata": {
    "execution": {
     "iopub.execute_input": "2022-04-07T08:41:00.894417Z",
     "iopub.status.busy": "2022-04-07T08:41:00.893565Z",
     "iopub.status.idle": "2022-04-07T08:41:01.174865Z",
     "shell.execute_reply": "2022-04-07T08:41:01.174355Z",
     "shell.execute_reply.started": "2022-04-07T07:57:59.498510Z"
    },
    "papermill": {
     "duration": 0.672256,
     "end_time": "2022-04-07T08:41:01.174987",
     "exception": false,
     "start_time": "2022-04-07T08:41:00.502731",
     "status": "completed"
    },
    "tags": []
   },
   "outputs": [
    {
     "name": "stdout",
     "output_type": "stream",
     "text": [
      "24/24 [==============================] - 0s 10ms/step - loss: 0.5891 - accuracy: 0.8215\n"
     ]
    },
    {
     "data": {
      "text/plain": [
       "[0.589073121547699, 0.8215222954750061]"
      ]
     },
     "execution_count": 71,
     "metadata": {},
     "output_type": "execute_result"
    }
   ],
   "source": [
    "model_6.evaluate(val_sentences,val_labels)"
   ]
  },
  {
   "cell_type": "code",
   "execution_count": 72,
   "id": "abedd8e5",
   "metadata": {
    "execution": {
     "iopub.execute_input": "2022-04-07T08:41:01.967352Z",
     "iopub.status.busy": "2022-04-07T08:41:01.966387Z",
     "iopub.status.idle": "2022-04-07T08:41:02.536435Z",
     "shell.execute_reply": "2022-04-07T08:41:02.535989Z",
     "shell.execute_reply.started": "2022-04-07T07:57:59.905073Z"
    },
    "papermill": {
     "duration": 0.96326,
     "end_time": "2022-04-07T08:41:02.536573",
     "exception": false,
     "start_time": "2022-04-07T08:41:01.573313",
     "status": "completed"
    },
    "tags": []
   },
   "outputs": [
    {
     "data": {
      "text/plain": [
       "array([[0.04631977],\n",
       "       [0.75674444],\n",
       "       [0.9999927 ],\n",
       "       [0.14429834],\n",
       "       [0.66000533],\n",
       "       [0.99364305],\n",
       "       [0.9995739 ],\n",
       "       [0.9998789 ],\n",
       "       [0.99858737],\n",
       "       [0.05024485]], dtype=float32)"
      ]
     },
     "execution_count": 72,
     "metadata": {},
     "output_type": "execute_result"
    }
   ],
   "source": [
    "model_6_pred_probs = model_6.predict(val_sentences)\n",
    "model_6_pred_probs[:10]"
   ]
  },
  {
   "cell_type": "code",
   "execution_count": 73,
   "id": "ea4497ac",
   "metadata": {
    "execution": {
     "iopub.execute_input": "2022-04-07T08:41:03.367414Z",
     "iopub.status.busy": "2022-04-07T08:41:03.366601Z",
     "iopub.status.idle": "2022-04-07T08:41:03.371452Z",
     "shell.execute_reply": "2022-04-07T08:41:03.371870Z",
     "shell.execute_reply.started": "2022-04-07T07:58:00.959020Z"
    },
    "papermill": {
     "duration": 0.411142,
     "end_time": "2022-04-07T08:41:03.372005",
     "exception": false,
     "start_time": "2022-04-07T08:41:02.960863",
     "status": "completed"
    },
    "tags": []
   },
   "outputs": [
    {
     "data": {
      "text/plain": [
       "<tf.Tensor: shape=(10,), dtype=float32, numpy=array([0., 1., 1., 0., 1., 1., 1., 1., 1., 0.], dtype=float32)>"
      ]
     },
     "execution_count": 73,
     "metadata": {},
     "output_type": "execute_result"
    }
   ],
   "source": [
    "model_6_preds = tf.squeeze(tf.round(model_6_pred_probs))\n",
    "model_6_preds[:10]"
   ]
  },
  {
   "cell_type": "code",
   "execution_count": 74,
   "id": "cd2cd7c4",
   "metadata": {
    "execution": {
     "iopub.execute_input": "2022-04-07T08:41:04.153818Z",
     "iopub.status.busy": "2022-04-07T08:41:04.152955Z",
     "iopub.status.idle": "2022-04-07T08:41:04.159544Z",
     "shell.execute_reply": "2022-04-07T08:41:04.159086Z",
     "shell.execute_reply.started": "2022-04-07T07:58:00.972753Z"
    },
    "papermill": {
     "duration": 0.400773,
     "end_time": "2022-04-07T08:41:04.159659",
     "exception": false,
     "start_time": "2022-04-07T08:41:03.758886",
     "status": "completed"
    },
    "tags": []
   },
   "outputs": [
    {
     "data": {
      "text/plain": [
       "{'accuracy': 82.1522309711286,\n",
       " 'precision': 0.8241317499642585,\n",
       " 'recall': 0.821522309711286,\n",
       " 'f1-score': 0.82000293386527}"
      ]
     },
     "execution_count": 74,
     "metadata": {},
     "output_type": "execute_result"
    }
   ],
   "source": [
    "model_6_results = calculate_results(val_labels, model_6_preds)\n",
    "model_6_results"
   ]
  },
  {
   "cell_type": "code",
   "execution_count": 75,
   "id": "62520e81",
   "metadata": {
    "execution": {
     "iopub.execute_input": "2022-04-07T08:41:04.940689Z",
     "iopub.status.busy": "2022-04-07T08:41:04.939872Z",
     "iopub.status.idle": "2022-04-07T08:41:04.944074Z",
     "shell.execute_reply": "2022-04-07T08:41:04.944612Z",
     "shell.execute_reply.started": "2022-04-07T07:58:00.989628Z"
    },
    "papermill": {
     "duration": 0.396545,
     "end_time": "2022-04-07T08:41:04.944792",
     "exception": false,
     "start_time": "2022-04-07T08:41:04.548247",
     "status": "completed"
    },
    "tags": []
   },
   "outputs": [
    {
     "name": "stdout",
     "output_type": "stream",
     "text": [
      "Baseline accuracy: 79.27 , New accuracy: 82.15 , Difference: 2.89\n",
      "Baseline precision: 0.81 , New precision: 0.82 , Difference: 0.01\n",
      "Baseline recall: 0.79 , New recall: 0.82 , Difference: 0.03\n",
      "Baseline f1-score: 0.79 , New f1-score: 0.82 , Difference: 0.03\n"
     ]
    }
   ],
   "source": [
    "compare_baseline_to_new_results(baseline_results, model_6_results)"
   ]
  },
  {
   "cell_type": "markdown",
   "id": "795d88f4",
   "metadata": {
    "papermill": {
     "duration": 0.390935,
     "end_time": "2022-04-07T08:41:05.756153",
     "exception": false,
     "start_time": "2022-04-07T08:41:05.365218",
     "status": "completed"
    },
    "tags": []
   },
   "source": [
    "## Comparing the performance of each of our models"
   ]
  },
  {
   "cell_type": "code",
   "execution_count": 76,
   "id": "9be6e585",
   "metadata": {
    "execution": {
     "iopub.execute_input": "2022-04-07T08:41:06.559184Z",
     "iopub.status.busy": "2022-04-07T08:41:06.557910Z",
     "iopub.status.idle": "2022-04-07T08:41:06.561713Z",
     "shell.execute_reply": "2022-04-07T08:41:06.561247Z",
     "shell.execute_reply.started": "2022-04-07T07:58:00.999866Z"
    },
    "papermill": {
     "duration": 0.414148,
     "end_time": "2022-04-07T08:41:06.561830",
     "exception": false,
     "start_time": "2022-04-07T08:41:06.147682",
     "status": "completed"
    },
    "tags": []
   },
   "outputs": [
    {
     "data": {
      "text/html": [
       "<div>\n",
       "<style scoped>\n",
       "    .dataframe tbody tr th:only-of-type {\n",
       "        vertical-align: middle;\n",
       "    }\n",
       "\n",
       "    .dataframe tbody tr th {\n",
       "        vertical-align: top;\n",
       "    }\n",
       "\n",
       "    .dataframe thead th {\n",
       "        text-align: right;\n",
       "    }\n",
       "</style>\n",
       "<table border=\"1\" class=\"dataframe\">\n",
       "  <thead>\n",
       "    <tr style=\"text-align: right;\">\n",
       "      <th></th>\n",
       "      <th>accuracy</th>\n",
       "      <th>precision</th>\n",
       "      <th>recall</th>\n",
       "      <th>f1-score</th>\n",
       "    </tr>\n",
       "  </thead>\n",
       "  <tbody>\n",
       "    <tr>\n",
       "      <th>baseline</th>\n",
       "      <td>79.265092</td>\n",
       "      <td>0.811139</td>\n",
       "      <td>0.792651</td>\n",
       "      <td>0.786219</td>\n",
       "    </tr>\n",
       "    <tr>\n",
       "      <th>simple_dense</th>\n",
       "      <td>79.002625</td>\n",
       "      <td>0.790403</td>\n",
       "      <td>0.790026</td>\n",
       "      <td>0.788968</td>\n",
       "    </tr>\n",
       "    <tr>\n",
       "      <th>lstm</th>\n",
       "      <td>75.721785</td>\n",
       "      <td>0.757329</td>\n",
       "      <td>0.757218</td>\n",
       "      <td>0.755828</td>\n",
       "    </tr>\n",
       "    <tr>\n",
       "      <th>gru</th>\n",
       "      <td>76.509186</td>\n",
       "      <td>0.764701</td>\n",
       "      <td>0.765092</td>\n",
       "      <td>0.764672</td>\n",
       "    </tr>\n",
       "    <tr>\n",
       "      <th>bidirectional</th>\n",
       "      <td>75.196850</td>\n",
       "      <td>0.751581</td>\n",
       "      <td>0.751969</td>\n",
       "      <td>0.751082</td>\n",
       "    </tr>\n",
       "    <tr>\n",
       "      <th>conv1d</th>\n",
       "      <td>77.427822</td>\n",
       "      <td>0.774059</td>\n",
       "      <td>0.774278</td>\n",
       "      <td>0.773515</td>\n",
       "    </tr>\n",
       "    <tr>\n",
       "      <th>tf_hub_sentence_encoder</th>\n",
       "      <td>82.152231</td>\n",
       "      <td>0.824132</td>\n",
       "      <td>0.821522</td>\n",
       "      <td>0.820003</td>\n",
       "    </tr>\n",
       "  </tbody>\n",
       "</table>\n",
       "</div>"
      ],
      "text/plain": [
       "                          accuracy  precision    recall  f1-score\n",
       "baseline                 79.265092   0.811139  0.792651  0.786219\n",
       "simple_dense             79.002625   0.790403  0.790026  0.788968\n",
       "lstm                     75.721785   0.757329  0.757218  0.755828\n",
       "gru                      76.509186   0.764701  0.765092  0.764672\n",
       "bidirectional            75.196850   0.751581  0.751969  0.751082\n",
       "conv1d                   77.427822   0.774059  0.774278  0.773515\n",
       "tf_hub_sentence_encoder  82.152231   0.824132  0.821522  0.820003"
      ]
     },
     "execution_count": 76,
     "metadata": {},
     "output_type": "execute_result"
    }
   ],
   "source": [
    "# Combine model results into a DataFrame\n",
    "all_model_results = pd.DataFrame({\"baseline\": baseline_results,\n",
    "                                  \"simple_dense\": model_1_results,\n",
    "                                  \"lstm\": model_2_results,\n",
    "                                  \"gru\": model_3_results,\n",
    "                                  \"bidirectional\": model_4_results,\n",
    "                                  \"conv1d\": model_5_results,\n",
    "                                  \"tf_hub_sentence_encoder\": model_6_results})\n",
    "\n",
    "all_model_results = all_model_results.transpose()\n",
    "all_model_results"
   ]
  },
  {
   "cell_type": "code",
   "execution_count": 77,
   "id": "fd9aa5ca",
   "metadata": {
    "execution": {
     "iopub.execute_input": "2022-04-07T08:41:07.401661Z",
     "iopub.status.busy": "2022-04-07T08:41:07.400028Z",
     "iopub.status.idle": "2022-04-07T08:41:07.402272Z",
     "shell.execute_reply": "2022-04-07T08:41:07.402712Z",
     "shell.execute_reply.started": "2022-04-07T07:58:01.023512Z"
    },
    "papermill": {
     "duration": 0.411731,
     "end_time": "2022-04-07T08:41:07.402849",
     "exception": false,
     "start_time": "2022-04-07T08:41:06.991118",
     "status": "completed"
    },
    "tags": []
   },
   "outputs": [],
   "source": [
    "# Reduce the accuracy to same scale as other metrics\n",
    "all_model_results['accuracy'] =  all_model_results['accuracy']/100"
   ]
  },
  {
   "cell_type": "code",
   "execution_count": 78,
   "id": "076fa519",
   "metadata": {
    "execution": {
     "iopub.execute_input": "2022-04-07T08:41:08.468433Z",
     "iopub.status.busy": "2022-04-07T08:41:08.467773Z",
     "iopub.status.idle": "2022-04-07T08:41:08.818143Z",
     "shell.execute_reply": "2022-04-07T08:41:08.817661Z",
     "shell.execute_reply.started": "2022-04-07T07:58:01.034980Z"
    },
    "papermill": {
     "duration": 0.745135,
     "end_time": "2022-04-07T08:41:08.818279",
     "exception": false,
     "start_time": "2022-04-07T08:41:08.073144",
     "status": "completed"
    },
    "tags": []
   },
   "outputs": [
    {
     "data": {
      "image/png": "[encoded data removed]",
      "text/plain": [
       "<Figure size 720x504 with 1 Axes>"
      ]
     },
     "metadata": {
      "needs_background": "light"
     },
     "output_type": "display_data"
    }
   ],
   "source": [
    "# Plot and compare all of the model results\n",
    "all_model_results.plot(kind=\"bar\",figsize=(10,7)).legend(bbox_to_anchor=(1.0,1.0));"
   ]
  },
  {
   "cell_type": "code",
   "execution_count": 79,
   "id": "ee0f6865",
   "metadata": {
    "execution": {
     "iopub.execute_input": "2022-04-07T08:41:09.627152Z",
     "iopub.status.busy": "2022-04-07T08:41:09.626297Z",
     "iopub.status.idle": "2022-04-07T08:41:09.829512Z",
     "shell.execute_reply": "2022-04-07T08:41:09.829031Z",
     "shell.execute_reply.started": "2022-04-07T07:58:01.500163Z"
    },
    "papermill": {
     "duration": 0.601401,
     "end_time": "2022-04-07T08:41:09.829651",
     "exception": false,
     "start_time": "2022-04-07T08:41:09.228250",
     "status": "completed"
    },
    "tags": []
   },
   "outputs": [
    {
     "data": {
      "image/png": "[encoded data removed]",
      "text/plain": [
       "<Figure size 720x504 with 1 Axes>"
      ]
     },
     "metadata": {
      "needs_background": "light"
     },
     "output_type": "display_data"
    }
   ],
   "source": [
    "# Sort model results by f1-score\n",
    "all_model_results.sort_values(\"f1-score\",ascending=False)[\"f1-score\"].plot(kind=\"bar\",figsize=(10,7));"
   ]
  },
  {
   "cell_type": "markdown",
   "id": "8ffd6aeb",
   "metadata": {
    "papermill": {
     "duration": 0.393951,
     "end_time": "2022-04-07T08:41:10.615062",
     "exception": false,
     "start_time": "2022-04-07T08:41:10.221111",
     "status": "completed"
    },
    "tags": []
   },
   "source": [
    "## Combining our models (model ensembling/stacking)\n",
    "\n",
    "* Averaging - Take the output prediction probabilities of each model for each sample, combine them and then average them.\n",
    "* Majority vote (mode) - Make class predictions with each of your models on all samples, the predicted class is the one in majority. For example, if three different models predict [1, 0, 1] respectively, the majority class is 1, therefore, that would be the predicted label.\n",
    "* Model stacking - Take the outputs of each of your chosen models and use them as inputs to another model."
   ]
  },
  {
   "cell_type": "code",
   "execution_count": 80,
   "id": "a6889d2e",
   "metadata": {
    "execution": {
     "iopub.execute_input": "2022-04-07T08:41:11.480002Z",
     "iopub.status.busy": "2022-04-07T08:41:11.479070Z",
     "iopub.status.idle": "2022-04-07T08:41:11.480699Z",
     "shell.execute_reply": "2022-04-07T08:41:11.481189Z",
     "shell.execute_reply.started": "2022-04-07T07:58:01.785949Z"
    },
    "papermill": {
     "duration": 0.436389,
     "end_time": "2022-04-07T08:41:11.481326",
     "exception": false,
     "start_time": "2022-04-07T08:41:11.044937",
     "status": "completed"
    },
    "tags": []
   },
   "outputs": [],
   "source": [
    "import numpy as np"
   ]
  },
  {
   "cell_type": "code",
   "execution_count": 81,
   "id": "ce9f415e",
   "metadata": {
    "execution": {
     "iopub.execute_input": "2022-04-07T08:41:12.282097Z",
     "iopub.status.busy": "2022-04-07T08:41:12.281254Z",
     "iopub.status.idle": "2022-04-07T08:41:12.298514Z",
     "shell.execute_reply": "2022-04-07T08:41:12.298933Z",
     "shell.execute_reply.started": "2022-04-07T07:58:01.793425Z"
    },
    "papermill": {
     "duration": 0.425869,
     "end_time": "2022-04-07T08:41:12.299080",
     "exception": false,
     "start_time": "2022-04-07T08:41:11.873211",
     "status": "completed"
    },
    "tags": []
   },
   "outputs": [
    {
     "data": {
      "text/plain": [
       "<tf.Tensor: shape=(20,), dtype=float32, numpy=\n",
       "array([0., 1., 1., 0., 0., 1., 1., 1., 1., 0., 0., 1., 0., 0., 0., 0., 0.,\n",
       "       0., 0., 1.], dtype=float32)>"
      ]
     },
     "execution_count": 81,
     "metadata": {},
     "output_type": "execute_result"
    }
   ],
   "source": [
    "# Get mean pred probs for 3 models (baseline + simple_dense + tf_hub use)\n",
    "baseline_pred_probs = np.max(model_0.predict_proba(val_sentences),axis=1)\n",
    "combined_pred_probs = baseline_pred_probs + tf.squeeze(model_6_pred_probs) + tf.squeeze(model_1_pred_probs) \n",
    "combined_preds = tf.round(combined_pred_probs/3)\n",
    "combined_preds[:20]"
   ]
  },
  {
   "cell_type": "code",
   "execution_count": 82,
   "id": "cad9fbfb",
   "metadata": {
    "execution": {
     "iopub.execute_input": "2022-04-07T08:41:13.123657Z",
     "iopub.status.busy": "2022-04-07T08:41:13.122710Z",
     "iopub.status.idle": "2022-04-07T08:41:13.130190Z",
     "shell.execute_reply": "2022-04-07T08:41:13.130634Z",
     "shell.execute_reply.started": "2022-04-07T07:58:01.835378Z"
    },
    "papermill": {
     "duration": 0.434599,
     "end_time": "2022-04-07T08:41:13.130778",
     "exception": false,
     "start_time": "2022-04-07T08:41:12.696179",
     "status": "completed"
    },
    "tags": []
   },
   "outputs": [
    {
     "data": {
      "text/plain": [
       "{'accuracy': 80.70866141732283,\n",
       " 'precision': 0.8068810169147006,\n",
       " 'recall': 0.8070866141732284,\n",
       " 'f1-score': 0.8069152667545839}"
      ]
     },
     "execution_count": 82,
     "metadata": {},
     "output_type": "execute_result"
    }
   ],
   "source": [
    "# Calculate results from averaging the prediction probabilities\n",
    "ensemble_results = calculate_results(val_labels,combined_preds)\n",
    "ensemble_results"
   ]
  },
  {
   "cell_type": "code",
   "execution_count": 83,
   "id": "6417d235",
   "metadata": {
    "execution": {
     "iopub.execute_input": "2022-04-07T08:41:13.919147Z",
     "iopub.status.busy": "2022-04-07T08:41:13.918328Z",
     "iopub.status.idle": "2022-04-07T08:41:13.925302Z",
     "shell.execute_reply": "2022-04-07T08:41:13.924881Z",
     "shell.execute_reply.started": "2022-04-07T07:58:01.851573Z"
    },
    "papermill": {
     "duration": 0.401858,
     "end_time": "2022-04-07T08:41:13.925444",
     "exception": false,
     "start_time": "2022-04-07T08:41:13.523586",
     "status": "completed"
    },
    "tags": []
   },
   "outputs": [],
   "source": [
    "# Add our combined model's results to the results DataFrame\n",
    "all_model_results.loc[\"ensemble_results\"] = ensemble_results"
   ]
  },
  {
   "cell_type": "code",
   "execution_count": 84,
   "id": "e19f33be",
   "metadata": {
    "execution": {
     "iopub.execute_input": "2022-04-07T08:41:14.721352Z",
     "iopub.status.busy": "2022-04-07T08:41:14.720445Z",
     "iopub.status.idle": "2022-04-07T08:41:14.722437Z",
     "shell.execute_reply": "2022-04-07T08:41:14.722801Z",
     "shell.execute_reply.started": "2022-04-07T07:58:01.864495Z"
    },
    "papermill": {
     "duration": 0.401453,
     "end_time": "2022-04-07T08:41:14.722939",
     "exception": false,
     "start_time": "2022-04-07T08:41:14.321486",
     "status": "completed"
    },
    "tags": []
   },
   "outputs": [],
   "source": [
    "# Convert the accuracy to the same scale as the rest of the results\n",
    "all_model_results.loc[\"ensemble_results\"][\"accuracy\"] = all_model_results.loc[\"ensemble_results\"][\"accuracy\"]/100"
   ]
  },
  {
   "cell_type": "code",
   "execution_count": 85,
   "id": "6c4982f3",
   "metadata": {
    "execution": {
     "iopub.execute_input": "2022-04-07T08:41:15.544882Z",
     "iopub.status.busy": "2022-04-07T08:41:15.544206Z",
     "iopub.status.idle": "2022-04-07T08:41:15.547190Z",
     "shell.execute_reply": "2022-04-07T08:41:15.547610Z",
     "shell.execute_reply.started": "2022-04-07T07:58:01.877941Z"
    },
    "papermill": {
     "duration": 0.407051,
     "end_time": "2022-04-07T08:41:15.547752",
     "exception": false,
     "start_time": "2022-04-07T08:41:15.140701",
     "status": "completed"
    },
    "tags": []
   },
   "outputs": [
    {
     "data": {
      "text/html": [
       "<div>\n",
       "<style scoped>\n",
       "    .dataframe tbody tr th:only-of-type {\n",
       "        vertical-align: middle;\n",
       "    }\n",
       "\n",
       "    .dataframe tbody tr th {\n",
       "        vertical-align: top;\n",
       "    }\n",
       "\n",
       "    .dataframe thead th {\n",
       "        text-align: right;\n",
       "    }\n",
       "</style>\n",
       "<table border=\"1\" class=\"dataframe\">\n",
       "  <thead>\n",
       "    <tr style=\"text-align: right;\">\n",
       "      <th></th>\n",
       "      <th>accuracy</th>\n",
       "      <th>precision</th>\n",
       "      <th>recall</th>\n",
       "      <th>f1-score</th>\n",
       "    </tr>\n",
       "  </thead>\n",
       "  <tbody>\n",
       "    <tr>\n",
       "      <th>baseline</th>\n",
       "      <td>0.792651</td>\n",
       "      <td>0.811139</td>\n",
       "      <td>0.792651</td>\n",
       "      <td>0.786219</td>\n",
       "    </tr>\n",
       "    <tr>\n",
       "      <th>simple_dense</th>\n",
       "      <td>0.790026</td>\n",
       "      <td>0.790403</td>\n",
       "      <td>0.790026</td>\n",
       "      <td>0.788968</td>\n",
       "    </tr>\n",
       "    <tr>\n",
       "      <th>lstm</th>\n",
       "      <td>0.757218</td>\n",
       "      <td>0.757329</td>\n",
       "      <td>0.757218</td>\n",
       "      <td>0.755828</td>\n",
       "    </tr>\n",
       "    <tr>\n",
       "      <th>gru</th>\n",
       "      <td>0.765092</td>\n",
       "      <td>0.764701</td>\n",
       "      <td>0.765092</td>\n",
       "      <td>0.764672</td>\n",
       "    </tr>\n",
       "    <tr>\n",
       "      <th>bidirectional</th>\n",
       "      <td>0.751969</td>\n",
       "      <td>0.751581</td>\n",
       "      <td>0.751969</td>\n",
       "      <td>0.751082</td>\n",
       "    </tr>\n",
       "    <tr>\n",
       "      <th>conv1d</th>\n",
       "      <td>0.774278</td>\n",
       "      <td>0.774059</td>\n",
       "      <td>0.774278</td>\n",
       "      <td>0.773515</td>\n",
       "    </tr>\n",
       "    <tr>\n",
       "      <th>tf_hub_sentence_encoder</th>\n",
       "      <td>0.821522</td>\n",
       "      <td>0.824132</td>\n",
       "      <td>0.821522</td>\n",
       "      <td>0.820003</td>\n",
       "    </tr>\n",
       "    <tr>\n",
       "      <th>ensemble_results</th>\n",
       "      <td>0.807087</td>\n",
       "      <td>0.806881</td>\n",
       "      <td>0.807087</td>\n",
       "      <td>0.806915</td>\n",
       "    </tr>\n",
       "  </tbody>\n",
       "</table>\n",
       "</div>"
      ],
      "text/plain": [
       "                         accuracy  precision    recall  f1-score\n",
       "baseline                 0.792651   0.811139  0.792651  0.786219\n",
       "simple_dense             0.790026   0.790403  0.790026  0.788968\n",
       "lstm                     0.757218   0.757329  0.757218  0.755828\n",
       "gru                      0.765092   0.764701  0.765092  0.764672\n",
       "bidirectional            0.751969   0.751581  0.751969  0.751082\n",
       "conv1d                   0.774278   0.774059  0.774278  0.773515\n",
       "tf_hub_sentence_encoder  0.821522   0.824132  0.821522  0.820003\n",
       "ensemble_results         0.807087   0.806881  0.807087  0.806915"
      ]
     },
     "execution_count": 85,
     "metadata": {},
     "output_type": "execute_result"
    }
   ],
   "source": [
    "all_model_results"
   ]
  },
  {
   "cell_type": "code",
   "execution_count": 86,
   "id": "2105cedf",
   "metadata": {
    "execution": {
     "iopub.execute_input": "2022-04-07T08:41:16.348364Z",
     "iopub.status.busy": "2022-04-07T08:41:16.347745Z",
     "iopub.status.idle": "2022-04-07T08:41:18.902614Z",
     "shell.execute_reply": "2022-04-07T08:41:18.903499Z",
     "shell.execute_reply.started": "2022-04-07T07:58:01.899789Z"
    },
    "papermill": {
     "duration": 2.962904,
     "end_time": "2022-04-07T08:41:18.903751",
     "exception": false,
     "start_time": "2022-04-07T08:41:15.940847",
     "status": "completed"
    },
    "tags": []
   },
   "outputs": [],
   "source": [
    "model_6.save(\"model_6.h5\")"
   ]
  },
  {
   "cell_type": "code",
   "execution_count": 87,
   "id": "0682b9ad",
   "metadata": {
    "execution": {
     "iopub.execute_input": "2022-04-07T08:41:19.831916Z",
     "iopub.status.busy": "2022-04-07T08:41:19.831094Z",
     "iopub.status.idle": "2022-04-07T08:41:26.278960Z",
     "shell.execute_reply": "2022-04-07T08:41:26.278355Z",
     "shell.execute_reply.started": "2022-04-07T07:58:04.312614Z"
    },
    "papermill": {
     "duration": 6.887896,
     "end_time": "2022-04-07T08:41:26.279093",
     "exception": false,
     "start_time": "2022-04-07T08:41:19.391197",
     "status": "completed"
    },
    "tags": []
   },
   "outputs": [],
   "source": [
    "# Load model with custom Hub Layer (required with HDF5 format)\n",
    "loaded_model_6 = tf.keras.models.load_model(\"model_6.h5\",custom_objects={\"KerasLayer\":hub.KerasLayer})"
   ]
  },
  {
   "cell_type": "code",
   "execution_count": 88,
   "id": "d9e04605",
   "metadata": {
    "execution": {
     "iopub.execute_input": "2022-04-07T08:41:27.860297Z",
     "iopub.status.busy": "2022-04-07T08:41:27.859468Z",
     "iopub.status.idle": "2022-04-07T08:41:28.694702Z",
     "shell.execute_reply": "2022-04-07T08:41:28.694198Z",
     "shell.execute_reply.started": "2022-04-07T07:58:12.555378Z"
    },
    "papermill": {
     "duration": 1.63777,
     "end_time": "2022-04-07T08:41:28.694836",
     "exception": false,
     "start_time": "2022-04-07T08:41:27.057066",
     "status": "completed"
    },
    "tags": []
   },
   "outputs": [
    {
     "name": "stdout",
     "output_type": "stream",
     "text": [
      "24/24 [==============================] - 1s 10ms/step - loss: 0.5891 - accuracy: 0.8215\n"
     ]
    },
    {
     "data": {
      "text/plain": [
       "[0.589073121547699, 0.8215222954750061]"
      ]
     },
     "execution_count": 88,
     "metadata": {},
     "output_type": "execute_result"
    }
   ],
   "source": [
    "# How does our loaded model perform?\n",
    "loaded_model_6.evaluate(val_sentences, val_labels)"
   ]
  },
  {
   "cell_type": "markdown",
   "id": "20adaf43",
   "metadata": {
    "papermill": {
     "duration": 0.453022,
     "end_time": "2022-04-07T08:41:29.557179",
     "exception": false,
     "start_time": "2022-04-07T08:41:29.104157",
     "status": "completed"
    },
    "tags": []
   },
   "source": [
    "## Finding the most wrong examples"
   ]
  },
  {
   "cell_type": "code",
   "execution_count": 89,
   "id": "0d945fb4",
   "metadata": {
    "execution": {
     "iopub.execute_input": "2022-04-07T08:41:30.563419Z",
     "iopub.status.busy": "2022-04-07T08:41:30.562112Z",
     "iopub.status.idle": "2022-04-07T08:41:30.566183Z",
     "shell.execute_reply": "2022-04-07T08:41:30.565746Z",
     "shell.execute_reply.started": "2022-04-07T07:58:13.484357Z"
    },
    "papermill": {
     "duration": 0.406094,
     "end_time": "2022-04-07T08:41:30.566296",
     "exception": false,
     "start_time": "2022-04-07T08:41:30.160202",
     "status": "completed"
    },
    "tags": []
   },
   "outputs": [],
   "source": [
    "val_df = pd.DataFrame({\n",
    "    \"text\":val_sentences,\n",
    "    \"target\":val_labels,\n",
    "    \"pred\":model_6_preds,\n",
    "    \"pred_prob\":tf.squeeze(model_6_pred_probs)\n",
    "})"
   ]
  },
  {
   "cell_type": "code",
   "execution_count": 90,
   "id": "07b49c05",
   "metadata": {
    "execution": {
     "iopub.execute_input": "2022-04-07T08:41:31.365612Z",
     "iopub.status.busy": "2022-04-07T08:41:31.364969Z",
     "iopub.status.idle": "2022-04-07T08:41:31.367801Z",
     "shell.execute_reply": "2022-04-07T08:41:31.368362Z",
     "shell.execute_reply.started": "2022-04-07T07:58:13.495643Z"
    },
    "papermill": {
     "duration": 0.408218,
     "end_time": "2022-04-07T08:41:31.368520",
     "exception": false,
     "start_time": "2022-04-07T08:41:30.960302",
     "status": "completed"
    },
    "tags": []
   },
   "outputs": [
    {
     "data": {
      "text/html": [
       "<div>\n",
       "<style scoped>\n",
       "    .dataframe tbody tr th:only-of-type {\n",
       "        vertical-align: middle;\n",
       "    }\n",
       "\n",
       "    .dataframe tbody tr th {\n",
       "        vertical-align: top;\n",
       "    }\n",
       "\n",
       "    .dataframe thead th {\n",
       "        text-align: right;\n",
       "    }\n",
       "</style>\n",
       "<table border=\"1\" class=\"dataframe\">\n",
       "  <thead>\n",
       "    <tr style=\"text-align: right;\">\n",
       "      <th></th>\n",
       "      <th>text</th>\n",
       "      <th>target</th>\n",
       "      <th>pred</th>\n",
       "      <th>pred_prob</th>\n",
       "    </tr>\n",
       "  </thead>\n",
       "  <tbody>\n",
       "    <tr>\n",
       "      <th>0</th>\n",
       "      <td>DFR EP016 Monthly Meltdown - On Dnbheaven 2015...</td>\n",
       "      <td>0</td>\n",
       "      <td>0.0</td>\n",
       "      <td>0.046320</td>\n",
       "    </tr>\n",
       "    <tr>\n",
       "      <th>1</th>\n",
       "      <td>FedEx no longer to transport bioterror germs i...</td>\n",
       "      <td>0</td>\n",
       "      <td>1.0</td>\n",
       "      <td>0.756744</td>\n",
       "    </tr>\n",
       "    <tr>\n",
       "      <th>2</th>\n",
       "      <td>Gunmen kill four in El Salvador bus attack: Su...</td>\n",
       "      <td>1</td>\n",
       "      <td>1.0</td>\n",
       "      <td>0.999993</td>\n",
       "    </tr>\n",
       "    <tr>\n",
       "      <th>3</th>\n",
       "      <td>@camilacabello97 Internally and externally scr...</td>\n",
       "      <td>1</td>\n",
       "      <td>0.0</td>\n",
       "      <td>0.144298</td>\n",
       "    </tr>\n",
       "    <tr>\n",
       "      <th>4</th>\n",
       "      <td>Radiation emergency #preparedness starts with ...</td>\n",
       "      <td>1</td>\n",
       "      <td>1.0</td>\n",
       "      <td>0.660005</td>\n",
       "    </tr>\n",
       "  </tbody>\n",
       "</table>\n",
       "</div>"
      ],
      "text/plain": [
       "                                                text  target  pred  pred_prob\n",
       "0  DFR EP016 Monthly Meltdown - On Dnbheaven 2015...       0   0.0   0.046320\n",
       "1  FedEx no longer to transport bioterror germs i...       0   1.0   0.756744\n",
       "2  Gunmen kill four in El Salvador bus attack: Su...       1   1.0   0.999993\n",
       "3  @camilacabello97 Internally and externally scr...       1   0.0   0.144298\n",
       "4  Radiation emergency #preparedness starts with ...       1   1.0   0.660005"
      ]
     },
     "execution_count": 90,
     "metadata": {},
     "output_type": "execute_result"
    }
   ],
   "source": [
    "val_df.head()"
   ]
  },
  {
   "cell_type": "code",
   "execution_count": 91,
   "id": "52b5ee28",
   "metadata": {
    "execution": {
     "iopub.execute_input": "2022-04-07T08:41:33.513195Z",
     "iopub.status.busy": "2022-04-07T08:41:33.512411Z",
     "iopub.status.idle": "2022-04-07T08:41:33.515447Z",
     "shell.execute_reply": "2022-04-07T08:41:33.515835Z",
     "shell.execute_reply.started": "2022-04-07T07:58:38.385109Z"
    },
    "papermill": {
     "duration": 1.741927,
     "end_time": "2022-04-07T08:41:33.515968",
     "exception": false,
     "start_time": "2022-04-07T08:41:31.774041",
     "status": "completed"
    },
    "tags": []
   },
   "outputs": [
    {
     "data": {
      "text/html": [
       "<div>\n",
       "<style scoped>\n",
       "    .dataframe tbody tr th:only-of-type {\n",
       "        vertical-align: middle;\n",
       "    }\n",
       "\n",
       "    .dataframe tbody tr th {\n",
       "        vertical-align: top;\n",
       "    }\n",
       "\n",
       "    .dataframe thead th {\n",
       "        text-align: right;\n",
       "    }\n",
       "</style>\n",
       "<table border=\"1\" class=\"dataframe\">\n",
       "  <thead>\n",
       "    <tr style=\"text-align: right;\">\n",
       "      <th></th>\n",
       "      <th>text</th>\n",
       "      <th>target</th>\n",
       "      <th>pred</th>\n",
       "      <th>pred_prob</th>\n",
       "    </tr>\n",
       "  </thead>\n",
       "  <tbody>\n",
       "    <tr>\n",
       "      <th>628</th>\n",
       "      <td>@noah_anyname That's where the concentration c...</td>\n",
       "      <td>0</td>\n",
       "      <td>1.0</td>\n",
       "      <td>0.998285</td>\n",
       "    </tr>\n",
       "    <tr>\n",
       "      <th>344</th>\n",
       "      <td>Air Group is here to the rescue! We have 24/7 ...</td>\n",
       "      <td>0</td>\n",
       "      <td>1.0</td>\n",
       "      <td>0.997804</td>\n",
       "    </tr>\n",
       "    <tr>\n",
       "      <th>109</th>\n",
       "      <td>[55436] 1950 LIONEL TRAINS SMOKE LOCOMOTIVES W...</td>\n",
       "      <td>0</td>\n",
       "      <td>1.0</td>\n",
       "      <td>0.997498</td>\n",
       "    </tr>\n",
       "    <tr>\n",
       "      <th>741</th>\n",
       "      <td>#helpme what do I do? My friend has been ticke...</td>\n",
       "      <td>0</td>\n",
       "      <td>1.0</td>\n",
       "      <td>0.991713</td>\n",
       "    </tr>\n",
       "    <tr>\n",
       "      <th>209</th>\n",
       "      <td>Ashes 2015: AustraliaÛªs collapse at Trent Br...</td>\n",
       "      <td>0</td>\n",
       "      <td>1.0</td>\n",
       "      <td>0.991532</td>\n",
       "    </tr>\n",
       "    <tr>\n",
       "      <th>359</th>\n",
       "      <td>the windstorm blew thru my open window and now...</td>\n",
       "      <td>0</td>\n",
       "      <td>1.0</td>\n",
       "      <td>0.984691</td>\n",
       "    </tr>\n",
       "    <tr>\n",
       "      <th>645</th>\n",
       "      <td>Love is the weapon for this wounded generation...</td>\n",
       "      <td>0</td>\n",
       "      <td>1.0</td>\n",
       "      <td>0.983557</td>\n",
       "    </tr>\n",
       "    <tr>\n",
       "      <th>303</th>\n",
       "      <td>Trafford Centre film fans angry after Odeon ci...</td>\n",
       "      <td>0</td>\n",
       "      <td>1.0</td>\n",
       "      <td>0.978337</td>\n",
       "    </tr>\n",
       "    <tr>\n",
       "      <th>718</th>\n",
       "      <td>Haley Lu Richardson Fights for Water in The La...</td>\n",
       "      <td>0</td>\n",
       "      <td>1.0</td>\n",
       "      <td>0.971197</td>\n",
       "    </tr>\n",
       "    <tr>\n",
       "      <th>397</th>\n",
       "      <td>The #tubestrike is because TFL workers may hav...</td>\n",
       "      <td>0</td>\n",
       "      <td>1.0</td>\n",
       "      <td>0.957511</td>\n",
       "    </tr>\n",
       "  </tbody>\n",
       "</table>\n",
       "</div>"
      ],
      "text/plain": [
       "                                                  text  target  pred  \\\n",
       "628  @noah_anyname That's where the concentration c...       0   1.0   \n",
       "344  Air Group is here to the rescue! We have 24/7 ...       0   1.0   \n",
       "109  [55436] 1950 LIONEL TRAINS SMOKE LOCOMOTIVES W...       0   1.0   \n",
       "741  #helpme what do I do? My friend has been ticke...       0   1.0   \n",
       "209  Ashes 2015: AustraliaÛªs collapse at Trent Br...       0   1.0   \n",
       "359  the windstorm blew thru my open window and now...       0   1.0   \n",
       "645  Love is the weapon for this wounded generation...       0   1.0   \n",
       "303  Trafford Centre film fans angry after Odeon ci...       0   1.0   \n",
       "718  Haley Lu Richardson Fights for Water in The La...       0   1.0   \n",
       "397  The #tubestrike is because TFL workers may hav...       0   1.0   \n",
       "\n",
       "     pred_prob  \n",
       "628   0.998285  \n",
       "344   0.997804  \n",
       "109   0.997498  \n",
       "741   0.991713  \n",
       "209   0.991532  \n",
       "359   0.984691  \n",
       "645   0.983557  \n",
       "303   0.978337  \n",
       "718   0.971197  \n",
       "397   0.957511  "
      ]
     },
     "execution_count": 91,
     "metadata": {},
     "output_type": "execute_result"
    }
   ],
   "source": [
    "# Find the wrong predictions and sort by prediction probabilities\n",
    "most_wrong = val_df[val_df[\"target\"]!=val_df[\"pred\"]].sort_values(\"pred_prob\",ascending=False)\n",
    "most_wrong[:10]"
   ]
  },
  {
   "cell_type": "code",
   "execution_count": 92,
   "id": "78608624",
   "metadata": {
    "execution": {
     "iopub.execute_input": "2022-04-07T08:41:34.316242Z",
     "iopub.status.busy": "2022-04-07T08:41:34.315439Z",
     "iopub.status.idle": "2022-04-07T08:41:34.321878Z",
     "shell.execute_reply": "2022-04-07T08:41:34.321291Z",
     "shell.execute_reply.started": "2022-04-07T08:01:53.458325Z"
    },
    "papermill": {
     "duration": 0.411299,
     "end_time": "2022-04-07T08:41:34.322031",
     "exception": false,
     "start_time": "2022-04-07T08:41:33.910732",
     "status": "completed"
    },
    "tags": []
   },
   "outputs": [
    {
     "name": "stdout",
     "output_type": "stream",
     "text": [
      "Target: 0,pred: 1,prob: 0.9982849955558777\n",
      "Text:\n",
      "@noah_anyname That's where the concentration camps and mass murder come in. \n",
      " \n",
      "EVERY. FUCKING. TIME.\n",
      "\n",
      "---\n",
      "\n",
      "Target: 0,pred: 1,prob: 0.9978042244911194\n",
      "Text:\n",
      "Air Group is here to the rescue! We have 24/7 Emergency Service! Learn more about it here - http://t.co/9lyx7zMtHE http://t.co/5PbC96rTMJ\n",
      "\n",
      "---\n",
      "\n",
      "Target: 0,pred: 1,prob: 0.9974978566169739\n",
      "Text:\n",
      "[55436] 1950 LIONEL TRAINS SMOKE LOCOMOTIVES WITH MAGNE-TRACTION INSTRUCTIONS http://t.co/xEZBs3sq0y http://t.co/C2x0QoKGlY\n",
      "\n",
      "---\n",
      "\n",
      "Target: 0,pred: 1,prob: 0.991713285446167\n",
      "Text:\n",
      "#helpme what do I do? My friend has been ticketed by Police in Wayne County Michigan into never- sending poverty cycle. How do I help him?\n",
      "\n",
      "---\n",
      "\n",
      "Target: 0,pred: 1,prob: 0.9915321469306946\n",
      "Text:\n",
      "Ashes 2015: AustraliaÛªs collapse at Trent Bridge among worst in history: England bundled out Australia for 60 ... http://t.co/t5TrhjUAU0\n",
      "\n",
      "---\n",
      "\n",
      "Target: 0,pred: 1,prob: 0.9846910834312439\n",
      "Text:\n",
      "the windstorm blew thru my open window and now my bong is in pieces just another example of nature's indifference to human suffering\n",
      "\n",
      "---\n",
      "\n",
      "Target: 0,pred: 1,prob: 0.9835565090179443\n",
      "Text:\n",
      "Love is the weapon for this wounded generation &lt;3\n",
      "\n",
      "---\n",
      "\n",
      "Target: 0,pred: 1,prob: 0.9783373475074768\n",
      "Text:\n",
      "Trafford Centre film fans angry after Odeon cinema evacuated following false fire alarm   http://t.co/6GLDwx71DA\n",
      "\n",
      "---\n",
      "\n",
      "Target: 0,pred: 1,prob: 0.9711967706680298\n",
      "Text:\n",
      "Haley Lu Richardson Fights for Water in The Last Survivors (Review) http://t.co/oObSCFOKtQ\n",
      "\n",
      "---\n",
      "\n",
      "Target: 0,pred: 1,prob: 0.9575114846229553\n",
      "Text:\n",
      "The #tubestrike is because TFL workers may have trouble planning downtime. I hope none need emergency services. http://t.co/iCSFDSiFqb\n",
      "\n",
      "---\n",
      "\n"
     ]
    }
   ],
   "source": [
    "# Check the false positives (model predicted 1 when should've been 0)\n",
    "for row in most_wrong[:10].itertuples():\n",
    "    _,text,target,pred,prob = row\n",
    "    print(f\"Target: {target},pred: {int(pred)},prob: {prob}\")\n",
    "    print(f\"Text:\\n{text}\\n\")\n",
    "    print(\"---\\n\")"
   ]
  },
  {
   "cell_type": "code",
   "execution_count": 93,
   "id": "e2e241f9",
   "metadata": {
    "execution": {
     "iopub.execute_input": "2022-04-07T08:41:35.132874Z",
     "iopub.status.busy": "2022-04-07T08:41:35.132072Z",
     "iopub.status.idle": "2022-04-07T08:41:35.139035Z",
     "shell.execute_reply": "2022-04-07T08:41:35.139626Z",
     "shell.execute_reply.started": "2022-04-07T08:02:33.653072Z"
    },
    "papermill": {
     "duration": 0.418674,
     "end_time": "2022-04-07T08:41:35.139822",
     "exception": false,
     "start_time": "2022-04-07T08:41:34.721148",
     "status": "completed"
    },
    "tags": []
   },
   "outputs": [
    {
     "name": "stdout",
     "output_type": "stream",
     "text": [
      "Target: 1, Pred: 0, Prob: 0.0031338303815573454\n",
      "Text:\n",
      "So I pick myself off the ground and swam before I drowned. Hit the bottom so hard I bounced twice suffice this time around is different.\n",
      "\n",
      "----\n",
      "\n",
      "Target: 1, Pred: 0, Prob: 0.0023509101010859013\n",
      "Text:\n",
      "Two hours to get to a client meeting. Whirlwind of emotions with this #tubestrike\n",
      "\n",
      "----\n",
      "\n",
      "Target: 1, Pred: 0, Prob: 0.0017603380838409066\n",
      "Text:\n",
      "I get to smoke my shit in peace\n",
      "\n",
      "----\n",
      "\n",
      "Target: 1, Pred: 0, Prob: 0.0011323143262416124\n",
      "Text:\n",
      "Reddit Will Now QuarantineÛ_ http://t.co/pkUAMXw6pm #onlinecommunities #reddit #amageddon #freespeech #Business http://t.co/PAWvNJ4sAP\n",
      "\n",
      "----\n",
      "\n",
      "Target: 1, Pred: 0, Prob: 0.0010191143956035376\n",
      "Text:\n",
      "@DavidVonderhaar At least you were sincere ??\n",
      "\n",
      "----\n",
      "\n",
      "Target: 1, Pred: 0, Prob: 0.0008274847641587257\n",
      "Text:\n",
      "Ron &amp; Fez - Dave's High School Crush https://t.co/aN3W16c8F6 via @YouTube\n",
      "\n",
      "----\n",
      "\n",
      "Target: 1, Pred: 0, Prob: 0.00074202154064551\n",
      "Text:\n",
      "@GodOf_Mischief_ -of Loki's daggers she pulled it out and jammed it into Mina's thigh. When Mina screamed and grabbed at her leg sif-\n",
      "\n",
      "----\n",
      "\n",
      "Target: 1, Pred: 0, Prob: 0.0006438043201342225\n",
      "Text:\n",
      "Perspectives on the Grateful Dead: Critical Writings (Contributions to the Study http://t.co/fmu0fnuMxf http://t.co/AgGRyhVXKr\n",
      "\n",
      "----\n",
      "\n",
      "Target: 1, Pred: 0, Prob: 0.000299624603940174\n",
      "Text:\n",
      "going to redo my nails and watch behind the scenes of desolation of smaug ayyy\n",
      "\n",
      "----\n",
      "\n",
      "Target: 1, Pred: 0, Prob: 0.00013083677913527936\n",
      "Text:\n",
      "Why are you deluged with low self-image? Take the quiz: http://t.co/XsPqdOrIqj http://t.co/CQYvFR4UCy\n",
      "\n",
      "----\n",
      "\n"
     ]
    }
   ],
   "source": [
    "# Check the most wrong false negatives (model predicted 0 when should've predict 1)\n",
    "for row in most_wrong[-10:].itertuples():\n",
    "  _, text, target, pred, prob = row\n",
    "  print(f\"Target: {target}, Pred: {int(pred)}, Prob: {prob}\")\n",
    "  print(f\"Text:\\n{text}\\n\")\n",
    "  print(\"----\\n\")"
   ]
  },
  {
   "cell_type": "markdown",
   "id": "fc570ac2",
   "metadata": {
    "papermill": {
     "duration": 0.395822,
     "end_time": "2022-04-07T08:41:35.940848",
     "exception": false,
     "start_time": "2022-04-07T08:41:35.545026",
     "status": "completed"
    },
    "tags": []
   },
   "source": [
    "## Making predictions on the test dataset"
   ]
  },
  {
   "cell_type": "code",
   "execution_count": 94,
   "id": "e7754a76",
   "metadata": {
    "execution": {
     "iopub.execute_input": "2022-04-07T08:41:36.777711Z",
     "iopub.status.busy": "2022-04-07T08:41:36.776865Z",
     "iopub.status.idle": "2022-04-07T08:41:37.313318Z",
     "shell.execute_reply": "2022-04-07T08:41:37.313921Z",
     "shell.execute_reply.started": "2022-04-07T08:11:25.340001Z"
    },
    "papermill": {
     "duration": 0.965221,
     "end_time": "2022-04-07T08:41:37.314127",
     "exception": false,
     "start_time": "2022-04-07T08:41:36.348906",
     "status": "completed"
    },
    "tags": []
   },
   "outputs": [
    {
     "name": "stdout",
     "output_type": "stream",
     "text": [
      "Pred: 1, Prob: 0.9512537121772766\n",
      "Text:\n",
      "RT Hamosh84: This how the #Saudi is coming home from #Yemen in body bags. For what? #Saudi Kingdom ego? You're looÛ_ http://t.co/LJlKWGXgjY\n",
      "\n",
      "----\n",
      "\n",
      "Pred: 1, Prob: 0.9974650144577026\n",
      "Text:\n",
      "2 NNW Hana [Maui Co HI] COUNTY OFFICIAL reports COASTAL FLOOD at 5 Aug 10:00 AM HST -- WAIANAPANAPA STATE PARK CLOSED DUE TO LARGE SURF. Û_\n",
      "\n",
      "----\n",
      "\n",
      "Pred: 0, Prob: 0.05851401761174202\n",
      "Text:\n",
      "Police siren sound effect 1 via Play Tube Fre http://t.co/BLWnTMyQmQ\n",
      "\n",
      "----\n",
      "\n",
      "Pred: 0, Prob: 0.014663619920611382\n",
      "Text:\n",
      "When Rescuers Found Him He ... http://t.co/sTDCdHQxJX\n",
      "\n",
      "----\n",
      "\n",
      "Pred: 1, Prob: 0.9217574000358582\n",
      "Text:\n",
      "I was there to see @JimmieJohnson wreck in 2000 in person. My first thought was he's leaving on a stretcher!\n",
      "\n",
      "----\n",
      "\n",
      "Pred: 0, Prob: 8.894214261090383e-05\n",
      "Text:\n",
      "Cramer: Iger's 3 words that wrecked Disney's stock http://t.co/4dGpBAiVL7\n",
      "\n",
      "----\n",
      "\n",
      "Pred: 0, Prob: 0.17099443078041077\n",
      "Text:\n",
      "Permutable site conspiracy up-to-the-minute upheaval: QWkD\n",
      "\n",
      "----\n",
      "\n",
      "Pred: 0, Prob: 0.002887846203520894\n",
      "Text:\n",
      "WHEN YOUR PARENTS TRY TO PUT A CURFEW ON YOU AND YOU'RE ALMOST 19 ????????????\n",
      "\n",
      "----\n",
      "\n",
      "Pred: 1, Prob: 0.9998410940170288\n",
      "Text:\n",
      "Documenting climate change's first major casualty http://t.co/5QMvEwDgiS via @GreenHarvard http://t.co/NmtWI59MU4\n",
      "\n",
      "----\n",
      "\n",
      "Pred: 1, Prob: 0.8220071792602539\n",
      "Text:\n",
      "It is insanity to call Climate Change more dangerous than Muslims wanting to obliterate America and Israel.  https://t.co/aA6S66huXh\n",
      "\n",
      "----\n",
      "\n"
     ]
    }
   ],
   "source": [
    "# Making predictions on the test dataset\n",
    "test_sentences = test_df[\"text\"].to_list()\n",
    "test_samples = random.sample(test_sentences,10)\n",
    "for test_sample in test_samples:\n",
    "    pred_prob = tf.squeeze(model_6.predict([test_sample])) # has to be list\n",
    "    pred = tf.round(pred_prob)\n",
    "    print(f\"Pred: {int(pred)}, Prob: {pred_prob}\")\n",
    "    print(f\"Text:\\n{test_sample}\\n\")\n",
    "    print(\"----\\n\")"
   ]
  },
  {
   "cell_type": "code",
   "execution_count": 95,
   "id": "f34e22be",
   "metadata": {
    "execution": {
     "iopub.execute_input": "2022-04-07T08:41:38.142836Z",
     "iopub.status.busy": "2022-04-07T08:41:38.141932Z",
     "iopub.status.idle": "2022-04-07T08:41:40.101702Z",
     "shell.execute_reply": "2022-04-07T08:41:40.101212Z",
     "shell.execute_reply.started": "2022-04-07T08:28:01.580597Z"
    },
    "papermill": {
     "duration": 2.386558,
     "end_time": "2022-04-07T08:41:40.101837",
     "exception": false,
     "start_time": "2022-04-07T08:41:37.715279",
     "status": "completed"
    },
    "tags": []
   },
   "outputs": [
    {
     "data": {
      "text/html": [
       "<div>\n",
       "<style scoped>\n",
       "    .dataframe tbody tr th:only-of-type {\n",
       "        vertical-align: middle;\n",
       "    }\n",
       "\n",
       "    .dataframe tbody tr th {\n",
       "        vertical-align: top;\n",
       "    }\n",
       "\n",
       "    .dataframe thead th {\n",
       "        text-align: right;\n",
       "    }\n",
       "</style>\n",
       "<table border=\"1\" class=\"dataframe\">\n",
       "  <thead>\n",
       "    <tr style=\"text-align: right;\">\n",
       "      <th></th>\n",
       "      <th>id</th>\n",
       "      <th>target</th>\n",
       "    </tr>\n",
       "  </thead>\n",
       "  <tbody>\n",
       "    <tr>\n",
       "      <th>0</th>\n",
       "      <td>0</td>\n",
       "      <td>1</td>\n",
       "    </tr>\n",
       "    <tr>\n",
       "      <th>1</th>\n",
       "      <td>2</td>\n",
       "      <td>1</td>\n",
       "    </tr>\n",
       "    <tr>\n",
       "      <th>2</th>\n",
       "      <td>3</td>\n",
       "      <td>1</td>\n",
       "    </tr>\n",
       "    <tr>\n",
       "      <th>3</th>\n",
       "      <td>9</td>\n",
       "      <td>1</td>\n",
       "    </tr>\n",
       "    <tr>\n",
       "      <th>4</th>\n",
       "      <td>11</td>\n",
       "      <td>1</td>\n",
       "    </tr>\n",
       "    <tr>\n",
       "      <th>...</th>\n",
       "      <td>...</td>\n",
       "      <td>...</td>\n",
       "    </tr>\n",
       "    <tr>\n",
       "      <th>3258</th>\n",
       "      <td>10861</td>\n",
       "      <td>0</td>\n",
       "    </tr>\n",
       "    <tr>\n",
       "      <th>3259</th>\n",
       "      <td>10865</td>\n",
       "      <td>1</td>\n",
       "    </tr>\n",
       "    <tr>\n",
       "      <th>3260</th>\n",
       "      <td>10868</td>\n",
       "      <td>1</td>\n",
       "    </tr>\n",
       "    <tr>\n",
       "      <th>3261</th>\n",
       "      <td>10874</td>\n",
       "      <td>1</td>\n",
       "    </tr>\n",
       "    <tr>\n",
       "      <th>3262</th>\n",
       "      <td>10875</td>\n",
       "      <td>1</td>\n",
       "    </tr>\n",
       "  </tbody>\n",
       "</table>\n",
       "<p>3263 rows × 2 columns</p>\n",
       "</div>"
      ],
      "text/plain": [
       "         id  target\n",
       "0         0       1\n",
       "1         2       1\n",
       "2         3       1\n",
       "3         9       1\n",
       "4        11       1\n",
       "...     ...     ...\n",
       "3258  10861       0\n",
       "3259  10865       1\n",
       "3260  10868       1\n",
       "3261  10874       1\n",
       "3262  10875       1\n",
       "\n",
       "[3263 rows x 2 columns]"
      ]
     },
     "execution_count": 95,
     "metadata": {},
     "output_type": "execute_result"
    }
   ],
   "source": [
    "test_sentences = test_df[\"text\"].to_list()\n",
    "test_pred_probs = model_6.predict(test_sentences)\n",
    "test_preds = tf.round(tf.squeeze(test_pred_probs))\n",
    "sample_df[\"target\"] = [int (x) for x in test_preds]\n",
    "sample_df.to_csv('submission.csv', index=False)\n",
    "sample_df"
   ]
  },
  {
   "cell_type": "code",
   "execution_count": 96,
   "id": "62c36a96",
   "metadata": {
    "execution": {
     "iopub.execute_input": "2022-04-07T08:41:41.198000Z",
     "iopub.status.busy": "2022-04-07T08:41:41.197236Z",
     "iopub.status.idle": "2022-04-07T08:41:41.451981Z",
     "shell.execute_reply": "2022-04-07T08:41:41.452485Z",
     "shell.execute_reply.started": "2022-04-07T08:37:07.836858Z"
    },
    "papermill": {
     "duration": 0.825791,
     "end_time": "2022-04-07T08:41:41.452662",
     "exception": false,
     "start_time": "2022-04-07T08:41:40.626871",
     "status": "completed"
    },
    "tags": []
   },
   "outputs": [],
   "source": [
    "test_pred_probs_model1 = model_1.predict(test_sentences)"
   ]
  },
  {
   "cell_type": "code",
   "execution_count": 97,
   "id": "142b57ba",
   "metadata": {
    "execution": {
     "iopub.execute_input": "2022-04-07T08:41:42.327078Z",
     "iopub.status.busy": "2022-04-07T08:41:42.322168Z",
     "iopub.status.idle": "2022-04-07T08:41:42.387917Z",
     "shell.execute_reply": "2022-04-07T08:41:42.387443Z",
     "shell.execute_reply.started": "2022-04-07T08:37:22.961197Z"
    },
    "papermill": {
     "duration": 0.50513,
     "end_time": "2022-04-07T08:41:42.388047",
     "exception": false,
     "start_time": "2022-04-07T08:41:41.882917",
     "status": "completed"
    },
    "tags": []
   },
   "outputs": [
    {
     "data": {
      "text/plain": [
       "<tf.Tensor: shape=(20,), dtype=float32, numpy=\n",
       "array([1., 1., 1., 1., 1., 1., 0., 0., 0., 0., 0., 0., 0., 0., 0., 1., 0.,\n",
       "       1., 0., 0.], dtype=float32)>"
      ]
     },
     "execution_count": 97,
     "metadata": {},
     "output_type": "execute_result"
    }
   ],
   "source": [
    "baseline_pred_probs = np.max(model_0.predict_proba(test_sentences),axis=1)\n",
    "combined_pred_probs = baseline_pred_probs + tf.squeeze(test_pred_probs) + tf.squeeze(test_pred_probs_model1) \n",
    "combined_preds = tf.round(combined_pred_probs/3)\n",
    "combined_preds[:20]"
   ]
  },
  {
   "cell_type": "code",
   "execution_count": 98,
   "id": "305899da",
   "metadata": {
    "execution": {
     "iopub.execute_input": "2022-04-07T08:41:43.307713Z",
     "iopub.status.busy": "2022-04-07T08:41:43.306857Z",
     "iopub.status.idle": "2022-04-07T08:41:44.384609Z",
     "shell.execute_reply": "2022-04-07T08:41:44.384980Z",
     "shell.execute_reply.started": "2022-04-07T08:37:59.429653Z"
    },
    "papermill": {
     "duration": 1.499796,
     "end_time": "2022-04-07T08:41:44.385126",
     "exception": false,
     "start_time": "2022-04-07T08:41:42.885330",
     "status": "completed"
    },
    "tags": []
   },
   "outputs": [
    {
     "data": {
      "text/html": [
       "<div>\n",
       "<style scoped>\n",
       "    .dataframe tbody tr th:only-of-type {\n",
       "        vertical-align: middle;\n",
       "    }\n",
       "\n",
       "    .dataframe tbody tr th {\n",
       "        vertical-align: top;\n",
       "    }\n",
       "\n",
       "    .dataframe thead th {\n",
       "        text-align: right;\n",
       "    }\n",
       "</style>\n",
       "<table border=\"1\" class=\"dataframe\">\n",
       "  <thead>\n",
       "    <tr style=\"text-align: right;\">\n",
       "      <th></th>\n",
       "      <th>id</th>\n",
       "      <th>target</th>\n",
       "    </tr>\n",
       "  </thead>\n",
       "  <tbody>\n",
       "    <tr>\n",
       "      <th>0</th>\n",
       "      <td>0</td>\n",
       "      <td>1</td>\n",
       "    </tr>\n",
       "    <tr>\n",
       "      <th>1</th>\n",
       "      <td>2</td>\n",
       "      <td>1</td>\n",
       "    </tr>\n",
       "    <tr>\n",
       "      <th>2</th>\n",
       "      <td>3</td>\n",
       "      <td>1</td>\n",
       "    </tr>\n",
       "    <tr>\n",
       "      <th>3</th>\n",
       "      <td>9</td>\n",
       "      <td>1</td>\n",
       "    </tr>\n",
       "    <tr>\n",
       "      <th>4</th>\n",
       "      <td>11</td>\n",
       "      <td>1</td>\n",
       "    </tr>\n",
       "    <tr>\n",
       "      <th>...</th>\n",
       "      <td>...</td>\n",
       "      <td>...</td>\n",
       "    </tr>\n",
       "    <tr>\n",
       "      <th>3258</th>\n",
       "      <td>10861</td>\n",
       "      <td>1</td>\n",
       "    </tr>\n",
       "    <tr>\n",
       "      <th>3259</th>\n",
       "      <td>10865</td>\n",
       "      <td>1</td>\n",
       "    </tr>\n",
       "    <tr>\n",
       "      <th>3260</th>\n",
       "      <td>10868</td>\n",
       "      <td>1</td>\n",
       "    </tr>\n",
       "    <tr>\n",
       "      <th>3261</th>\n",
       "      <td>10874</td>\n",
       "      <td>1</td>\n",
       "    </tr>\n",
       "    <tr>\n",
       "      <th>3262</th>\n",
       "      <td>10875</td>\n",
       "      <td>1</td>\n",
       "    </tr>\n",
       "  </tbody>\n",
       "</table>\n",
       "<p>3263 rows × 2 columns</p>\n",
       "</div>"
      ],
      "text/plain": [
       "         id  target\n",
       "0         0       1\n",
       "1         2       1\n",
       "2         3       1\n",
       "3         9       1\n",
       "4        11       1\n",
       "...     ...     ...\n",
       "3258  10861       1\n",
       "3259  10865       1\n",
       "3260  10868       1\n",
       "3261  10874       1\n",
       "3262  10875       1\n",
       "\n",
       "[3263 rows x 2 columns]"
      ]
     },
     "execution_count": 98,
     "metadata": {},
     "output_type": "execute_result"
    }
   ],
   "source": [
    "sample_df[\"target\"] = [int (x) for x in combined_preds]\n",
    "sample_df.to_csv('submission2.csv', index=False)\n",
    "sample_df"
   ]
  },
  {
   "cell_type": "code",
   "execution_count": null,
   "id": "bb0afd2e",
   "metadata": {
    "papermill": {
     "duration": 0.421712,
     "end_time": "2022-04-07T08:41:45.234901",
     "exception": false,
     "start_time": "2022-04-07T08:41:44.813189",
     "status": "completed"
    },
    "tags": []
   },
   "outputs": [],
   "source": []
  }
 ],
 "metadata": {
  "kernelspec": {
   "display_name": "Python 3",
   "language": "python",
   "name": "python3"
  },
  "language_info": {
   "codemirror_mode": {
    "name": "ipython",
    "version": 3
   },
   "file_extension": ".py",
   "mimetype": "text/x-python",
   "name": "python",
   "nbconvert_exporter": "python",
   "pygments_lexer": "ipython3",
   "version": "3.7.12"
  },
  "papermill": {
   "default_parameters": {},
   "duration": 205.424751,
   "end_time": "2022-04-07T08:41:48.653216",
   "environment_variables": {},
   "exception": null,
   "input_path": "__notebook__.ipynb",
   "output_path": "__notebook__.ipynb",
   "parameters": {},
   "start_time": "2022-04-07T08:38:23.228465",
   "version": "2.3.3"
  }
 },
 "nbformat": 4,
 "nbformat_minor": 5
}
